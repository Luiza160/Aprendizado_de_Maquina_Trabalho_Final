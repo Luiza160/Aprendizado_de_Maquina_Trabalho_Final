{
 "cells": [
  {
   "cell_type": "markdown",
   "id": "e6755a8b-f4e0-40a3-be82-6a5464ca4a55",
   "metadata": {},
   "source": [
    "# <div class=\"alert alert-warning\" style=\"background-color: #fff3e0; color: #9370db;;\"> <center><font color= \"cyan\">**Desempenho do modelo em Knn**</font></center>\n",
    " \n",
    "<center>Autoras: Luiza Davoli, Samarah L. M. Ramos e Sarah S. Silva</center>\n",
    " \n",
    " \n",
    "<center>˚ · • . ° .˚ · • . ° .˚ · • . ° .˚ · • . ° .˚ · • . ° .˚ · • . ° .˚ · • . ° .˚ · • . ° .˚ · • . ° .˚ · • . ° .˚ · • . ° .˚ · • . ° .˚ · • . ° .˚ · • . ° .˚ · • . ° .˚ · • . ° .˚ · • . ° .</center>"
   ]
  },
  {
   "cell_type": "markdown",
   "id": "f4af3653-b833-4a59-9e95-a89ac72255b3",
   "metadata": {},
   "source": [
    "## Introdução\n",
    "\n",
    "O K-Nearest Neighbors (KNN) representa uma abordagem fundamental no aprendizado de máquina, baseando-se no princípio intuitivo de que objetos similares tendem a estar próximos no espaço de características. Desenvolvido a partir de conceitos da estatística não paramétrica, o KNN é um algoritmo lazy learner (aprendiz preguiçoso), pois não constrói um modelo explícito durante o treinamento, mas sim armazena todo o conjunto de dados e realiza computações apenas no momento da predição. No contexto deste estudo, aplicamos o KNN na modalidade de regressão para prever notas de saúde mental de estudantes baseados em seus hábitos de uso de redes sociais, características demográficas e comportamentais."
   ]
  },
  {
   "cell_type": "markdown",
   "id": "fca2ab1a-b0e8-4b11-aaa2-8d548e1016ec",
   "metadata": {},
   "source": [
    "### Importações necessárias"
   ]
  },
  {
   "cell_type": "code",
   "execution_count": 1,
   "id": "70d0c320-074b-41ac-94da-7cac4e4b742a",
   "metadata": {},
   "outputs": [],
   "source": [
    "import pandas as pd\n",
    "import numpy as np\n",
    "from sklearn.model_selection import train_test_split, cross_val_score\n",
    "from sklearn.neighbors import KNeighborsRegressor\n",
    "from sklearn.metrics import mean_squared_error, mean_absolute_error, r2_score\n",
    "from sklearn.preprocessing import StandardScaler\n",
    "import matplotlib.pyplot as plt\n",
    "import seaborn as sns\n",
    "import optuna\n",
    "from optuna.visualization import plot_optimization_history, plot_param_importances\n",
    "from sklearn.preprocessing import OneHotEncoder"
   ]
  },
  {
   "cell_type": "markdown",
   "id": "393147fe-08ca-4146-9446-c3fb678c8099",
   "metadata": {},
   "source": [
    "### Pré definido"
   ]
  },
  {
   "cell_type": "code",
   "execution_count": 2,
   "id": "f706aa8a-5003-4b2e-8e1f-de41feca22d0",
   "metadata": {},
   "outputs": [],
   "source": [
    "SEMENTE_ALEATORIA = 10\n",
    "NUM_FOLDS = 3\n",
    "NUM_TRIALS = 100"
   ]
  },
  {
   "cell_type": "markdown",
   "id": "18909be5-b9ea-497d-9afb-2cd12cfc32e0",
   "metadata": {},
   "source": [
    "* SEMENTE_ALEATORIA: Garante reprodutibilidade dos resultados\n",
    "* NUM_FOLDS: Número de folds para validação cruzada\n",
    "* NUM_TRIALS: Número de tentativas para otimização com Optuna"
   ]
  },
  {
   "cell_type": "markdown",
   "id": "7a11d354-71e2-47e9-8a17-f0e07d6abec4",
   "metadata": {},
   "source": [
    "### Lê o data frame"
   ]
  },
  {
   "cell_type": "code",
   "execution_count": 3,
   "id": "a0d620df-c5f4-43b3-829a-95f00f75cdc7",
   "metadata": {},
   "outputs": [
    {
     "name": "stdout",
     "output_type": "stream",
     "text": [
      "Dataset shape: (705, 13)\n",
      "Primeiras 5 linhas:\n",
      "   Student_ID  Age  Gender Academic_Level     Country  Avg_Daily_Usage_Hours  \\\n",
      "0           1   19  Female  Undergraduate  Bangladesh                    5.2   \n",
      "1           2   22    Male       Graduate       India                    2.1   \n",
      "2           3   20  Female  Undergraduate         USA                    6.0   \n",
      "3           4   18    Male    High School          UK                    3.0   \n",
      "4           5   21    Male       Graduate      Canada                    4.5   \n",
      "\n",
      "  Most_Used_Platform Affects_Academic_Performance  Sleep_Hours_Per_Night  \\\n",
      "0          Instagram                          Yes                    6.5   \n",
      "1            Twitter                           No                    7.5   \n",
      "2             TikTok                          Yes                    5.0   \n",
      "3            YouTube                           No                    7.0   \n",
      "4           Facebook                          Yes                    6.0   \n",
      "\n",
      "   Mental_Health_Score Relationship_Status  Conflicts_Over_Social_Media  \\\n",
      "0                    6     In Relationship                            3   \n",
      "1                    8              Single                            0   \n",
      "2                    5         Complicated                            4   \n",
      "3                    7              Single                            1   \n",
      "4                    6     In Relationship                            2   \n",
      "\n",
      "   Addicted_Score  \n",
      "0               8  \n",
      "1               3  \n",
      "2               9  \n",
      "3               4  \n",
      "4               7  \n"
     ]
    }
   ],
   "source": [
    "df = pd.read_csv(\"dados_tratados.csv\")\n",
    "print(f\"Dataset shape: {df.shape}\")\n",
    "print(f\"Primeiras 5 linhas:\")\n",
    "print(df.head())"
   ]
  },
  {
   "cell_type": "markdown",
   "id": "516c5c82-1944-411c-98f3-e9bd8f637262",
   "metadata": {},
   "source": [
    "Esse é o data frame escolhido para o estudo já tratado com as etapas decritas no git."
   ]
  },
  {
   "cell_type": "markdown",
   "id": "07fc9a6b-f9d8-46cc-b7fa-f56288474d23",
   "metadata": {},
   "source": [
    "# Separando variáveis numéricas e categóricas"
   ]
  },
  {
   "cell_type": "code",
   "execution_count": 4,
   "id": "df1bbb62-84e1-4f08-811e-bc45db5f0ce6",
   "metadata": {},
   "outputs": [],
   "source": [
    "numericos = df[[\"Age\", \n",
    "                \"Avg_Daily_Usage_Hours\", \n",
    "                \"Sleep_Hours_Per_Night\", \n",
    "                \"Conflicts_Over_Social_Media\", \n",
    "                \"Addicted_Score\"]].values\n",
    "\n",
    "categoricos = df[[\"Academic_Level\",\n",
    "                 \"Country\", \n",
    "                 \"Most_Used_Platform\",\n",
    "                 \"Affects_Academic_Performance\",\n",
    "                 \"Relationship_Status\"]].values\n",
    "\n",
    "encoder = OneHotEncoder(sparse_output=False, drop='first')\n",
    "\n",
    "categ_encoded = encoder.fit_transform(categoricos)\n",
    "\n",
    "X = np.hstack([numericos, categ_encoded])\n",
    "\n",
    "y = df[\"Mental_Health_Score\"].values"
   ]
  },
  {
   "cell_type": "markdown",
   "id": "ff2a43a5-3afa-47e7-9983-1a6c9a8a5d94",
   "metadata": {},
   "source": [
    "**Estrutura dos dados:**\n",
    "* Variáveis numéricas: Age, Avg_Daily_Usage_Hours, Sleep_Hours_Per_Night, etc.\n",
    "* Variáveis categóricas: Gender, Academic_Level, Country, etc.\n",
    "* Target: Mental_Health_Score (variável contínua → regressão)"
   ]
  },
  {
   "cell_type": "markdown",
   "id": "c0080405-dae6-4fb1-99e4-96f2f8b48fb6",
   "metadata": {},
   "source": [
    "## Divisão dos Dados"
   ]
  },
  {
   "cell_type": "code",
   "execution_count": 5,
   "id": "638d0e49-f40b-4a54-95f6-e29b149f96fc",
   "metadata": {},
   "outputs": [],
   "source": [
    "X_treino, X_teste, y_treino, y_teste = train_test_split(\n",
    "    X, y, test_size=0.2, random_state=SEMENTE_ALEATORIA  \n",
    ")\n",
    "\n",
    "X_treino_, X_val, y_treino_, y_val = train_test_split(\n",
    "    X_treino, y_treino, test_size=0.1, random_state=SEMENTE_ALEATORIA  \n",
    ")"
   ]
  },
  {
   "cell_type": "markdown",
   "id": "fc35455c-270a-4842-be64-cef689968589",
   "metadata": {},
   "source": [
    "**Estratégia de divisão:**\n",
    "* Treino (72%): Para treinar do modelo\n",
    "* Validação (8%): Dados para ajustar hiperparâmetros\n",
    "* Teste (20%): Avalia o modelo final"
   ]
  },
  {
   "cell_type": "markdown",
   "id": "a2f46b43-eb5a-40f4-8040-747ff43ea1d0",
   "metadata": {},
   "source": [
    "## Normalização dos dados (importante para KNN)"
   ]
  },
  {
   "cell_type": "code",
   "execution_count": 6,
   "id": "9564d477-32a5-4d36-a242-7d66f38437b2",
   "metadata": {},
   "outputs": [
    {
     "name": "stdout",
     "output_type": "stream",
     "text": [
      "Shapes dos conjuntos de dados:\n",
      "Treino: (507, 130)\n",
      "Validação: (57, 130)\n",
      "Teste: (141, 130)\n"
     ]
    }
   ],
   "source": [
    "scaler = StandardScaler()\n",
    "X_treino_scaled = scaler.fit_transform(X_treino_)\n",
    "X_val_scaled = scaler.transform(X_val)\n",
    "X_teste_scaled = scaler.transform(X_teste)\n",
    "\n",
    "print(\"Shapes dos conjuntos de dados:\")\n",
    "print(f\"Treino: {X_treino_scaled.shape}\")\n",
    "print(f\"Validação: {X_val_scaled.shape}\")\n",
    "print(f\"Teste: {X_teste_scaled.shape}\")"
   ]
  },
  {
   "cell_type": "markdown",
   "id": "8d2e9157-2472-4ad7-8cc5-97e0963fb6a5",
   "metadata": {},
   "source": [
    "É importante normalizar no KNN poi ele usa distâncias (Euclidiana, Manhattan, etc.) e features em escalas diferentes distorcem as distâncias, no Data Frame escolhido por exemplo, idade (0-100) e Horas de Uso (0-24) teriam pesos diferentes, o que poderia prejudicar o resultado final."
   ]
  },
  {
   "cell_type": "markdown",
   "id": "679943b6-2540-411f-9e2d-ef47d452a818",
   "metadata": {},
   "source": [
    "## Função de Otimização com Optuna"
   ]
  },
  {
   "cell_type": "code",
   "execution_count": 7,
   "id": "328b2862-95d7-4d14-9ad2-c284aea9d52b",
   "metadata": {},
   "outputs": [],
   "source": [
    "def objetivo_knn(trial):\n",
    "    X_temp, y_temp = X_treino_, y_treino_\n",
    "    \n",
    "    scaler = StandardScaler()\n",
    "    X_scaled = scaler.fit_transform(X_temp)\n",
    "  \n",
    "    parametros = {\n",
    "        'n_neighbors': trial.suggest_int('n_neighbors', 3, 30),\n",
    "        'weights': trial.suggest_categorical('weights', ['uniform', 'distance']),\n",
    "        'algorithm': trial.suggest_categorical('algorithm', ['auto', 'ball_tree', 'kd_tree', 'brute']),\n",
    "        'leaf_size': trial.suggest_int('leaf_size', 10, 50),\n",
    "        'p': trial.suggest_int('p', 1, 2),\n",
    "        'metric': trial.suggest_categorical('metric', ['minkowski', 'euclidean', 'manhattan'])\n",
    "    }\n",
    "    \n",
    "    modelo = KNeighborsRegressor(**parametros)\n",
    "    score = cross_val_score(modelo, X_temp, y_temp, cv=NUM_FOLDS, \n",
    "                          scoring='neg_mean_absolute_error', n_jobs=1).mean() \n",
    "    return score"
   ]
  },
  {
   "cell_type": "markdown",
   "id": "06e4b5f0-f985-4b8b-82eb-8a5068cfea75",
   "metadata": {},
   "source": [
    "**Hiperparâmetros otimizados:**\n",
    "* n_neighbors: Número de vizinhos (K)\n",
    "* weights: uniform (mesmo peso) ou distance (peso inverso à distância)\n",
    "* algorithm: Algoritmo para calcular vizinhos mais próximos\n",
    "* leaf_size: Controla o tamanho das \"folhas\" nas estruturas de dados árvore (tree) usadas para acelerar a busca por vizinhos mais próximos.\n",
    "* p: Parâmetro para distância de Minkowski (1=Manhattan, 2=Euclidiana)\n",
    "* metric: Métrica de distância"
   ]
  },
  {
   "cell_type": "markdown",
   "id": "bd5b6529-7324-4cdc-89ae-0dc6aa889a2c",
   "metadata": {},
   "source": [
    "#  Otimização com Optuna"
   ]
  },
  {
   "cell_type": "code",
   "execution_count": 8,
   "id": "ef36c0fd-3239-4928-829f-2da6d11e2ee6",
   "metadata": {},
   "outputs": [
    {
     "name": "stderr",
     "output_type": "stream",
     "text": [
      "[I 2025-10-30 17:01:16,383] A new study created in memory with name: no-name-1e10f220-fa6c-46f7-9c67-758b4405a533\n",
      "[I 2025-10-30 17:01:16,471] Trial 0 finished with value: -0.19236472950961248 and parameters: {'n_neighbors': 18, 'weights': 'distance', 'algorithm': 'kd_tree', 'leaf_size': 40, 'p': 1, 'metric': 'manhattan'}. Best is trial 0 with value: -0.19236472950961248.\n",
      "[I 2025-10-30 17:01:16,540] Trial 1 finished with value: -0.1693434770357848 and parameters: {'n_neighbors': 7, 'weights': 'uniform', 'algorithm': 'ball_tree', 'leaf_size': 23, 'p': 1, 'metric': 'manhattan'}. Best is trial 1 with value: -0.1693434770357848.\n",
      "[I 2025-10-30 17:01:16,620] Trial 2 finished with value: -0.2321093418147772 and parameters: {'n_neighbors': 29, 'weights': 'distance', 'algorithm': 'ball_tree', 'leaf_size': 18, 'p': 1, 'metric': 'manhattan'}. Best is trial 1 with value: -0.1693434770357848.\n",
      "[I 2025-10-30 17:01:16,717] Trial 3 finished with value: -0.16949372349498307 and parameters: {'n_neighbors': 14, 'weights': 'distance', 'algorithm': 'kd_tree', 'leaf_size': 14, 'p': 2, 'metric': 'manhattan'}. Best is trial 1 with value: -0.1693434770357848.\n",
      "[I 2025-10-30 17:01:22,330] Trial 4 finished with value: -0.2875301336839798 and parameters: {'n_neighbors': 18, 'weights': 'uniform', 'algorithm': 'auto', 'leaf_size': 14, 'p': 1, 'metric': 'euclidean'}. Best is trial 1 with value: -0.1693434770357848.\n",
      "[I 2025-10-30 17:01:22,406] Trial 5 finished with value: -0.19966571154797177 and parameters: {'n_neighbors': 13, 'weights': 'distance', 'algorithm': 'kd_tree', 'leaf_size': 22, 'p': 1, 'metric': 'euclidean'}. Best is trial 1 with value: -0.1693434770357848.\n",
      "[I 2025-10-30 17:01:22,476] Trial 6 finished with value: -0.2329209252286175 and parameters: {'n_neighbors': 11, 'weights': 'uniform', 'algorithm': 'ball_tree', 'leaf_size': 39, 'p': 2, 'metric': 'minkowski'}. Best is trial 1 with value: -0.1693434770357848.\n",
      "[I 2025-10-30 17:01:22,569] Trial 7 finished with value: -0.29720279720279724 and parameters: {'n_neighbors': 22, 'weights': 'uniform', 'algorithm': 'kd_tree', 'leaf_size': 22, 'p': 1, 'metric': 'minkowski'}. Best is trial 1 with value: -0.1693434770357848.\n",
      "[I 2025-10-30 17:01:22,638] Trial 8 finished with value: -0.09587238068712355 and parameters: {'n_neighbors': 4, 'weights': 'distance', 'algorithm': 'kd_tree', 'leaf_size': 48, 'p': 2, 'metric': 'minkowski'}. Best is trial 8 with value: -0.09587238068712355.\n",
      "[I 2025-10-30 17:01:22,715] Trial 9 finished with value: -0.2996055226824457 and parameters: {'n_neighbors': 20, 'weights': 'uniform', 'algorithm': 'ball_tree', 'leaf_size': 48, 'p': 2, 'metric': 'minkowski'}. Best is trial 8 with value: -0.09587238068712355.\n",
      "[I 2025-10-30 17:01:22,833] Trial 10 finished with value: -0.07355902148979958 and parameters: {'n_neighbors': 3, 'weights': 'distance', 'algorithm': 'brute', 'leaf_size': 48, 'p': 2, 'metric': 'minkowski'}. Best is trial 10 with value: -0.07355902148979958.\n",
      "[I 2025-10-30 17:01:22,931] Trial 11 finished with value: -0.07355902148979958 and parameters: {'n_neighbors': 3, 'weights': 'distance', 'algorithm': 'brute', 'leaf_size': 50, 'p': 2, 'metric': 'minkowski'}. Best is trial 10 with value: -0.07355902148979958.\n",
      "[I 2025-10-30 17:01:23,026] Trial 12 finished with value: -0.07355902148979958 and parameters: {'n_neighbors': 3, 'weights': 'distance', 'algorithm': 'brute', 'leaf_size': 38, 'p': 2, 'metric': 'minkowski'}. Best is trial 10 with value: -0.07355902148979958.\n",
      "[I 2025-10-30 17:01:23,121] Trial 13 finished with value: -0.153100698781376 and parameters: {'n_neighbors': 8, 'weights': 'distance', 'algorithm': 'brute', 'leaf_size': 49, 'p': 2, 'metric': 'minkowski'}. Best is trial 10 with value: -0.07355902148979958.\n",
      "[I 2025-10-30 17:01:23,218] Trial 14 finished with value: -0.153100698781376 and parameters: {'n_neighbors': 8, 'weights': 'distance', 'algorithm': 'brute', 'leaf_size': 33, 'p': 2, 'metric': 'minkowski'}. Best is trial 10 with value: -0.07355902148979958.\n",
      "[I 2025-10-30 17:01:23,311] Trial 15 finished with value: -0.07355902148979958 and parameters: {'n_neighbors': 3, 'weights': 'distance', 'algorithm': 'brute', 'leaf_size': 43, 'p': 2, 'metric': 'minkowski'}. Best is trial 10 with value: -0.07355902148979958.\n",
      "[I 2025-10-30 17:01:23,410] Trial 16 finished with value: -0.2599238257653253 and parameters: {'n_neighbors': 24, 'weights': 'distance', 'algorithm': 'brute', 'leaf_size': 31, 'p': 2, 'metric': 'euclidean'}. Best is trial 10 with value: -0.07355902148979958.\n",
      "[I 2025-10-30 17:01:23,502] Trial 17 finished with value: -0.12957034181740554 and parameters: {'n_neighbors': 6, 'weights': 'distance', 'algorithm': 'auto', 'leaf_size': 44, 'p': 2, 'metric': 'minkowski'}. Best is trial 10 with value: -0.07355902148979958.\n",
      "[I 2025-10-30 17:01:23,599] Trial 18 finished with value: -0.18301167989445008 and parameters: {'n_neighbors': 11, 'weights': 'distance', 'algorithm': 'brute', 'leaf_size': 35, 'p': 2, 'metric': 'minkowski'}. Best is trial 10 with value: -0.07355902148979958.\n",
      "[I 2025-10-30 17:01:23,700] Trial 19 finished with value: -0.18301167989445008 and parameters: {'n_neighbors': 11, 'weights': 'distance', 'algorithm': 'brute', 'leaf_size': 28, 'p': 2, 'metric': 'euclidean'}. Best is trial 10 with value: -0.07355902148979958.\n",
      "[I 2025-10-30 17:01:23,798] Trial 20 finished with value: -0.2732035591015967 and parameters: {'n_neighbors': 27, 'weights': 'distance', 'algorithm': 'brute', 'leaf_size': 45, 'p': 2, 'metric': 'minkowski'}. Best is trial 10 with value: -0.07355902148979958.\n",
      "[I 2025-10-30 17:01:23,897] Trial 21 finished with value: -0.07355902148979958 and parameters: {'n_neighbors': 3, 'weights': 'distance', 'algorithm': 'brute', 'leaf_size': 38, 'p': 2, 'metric': 'minkowski'}. Best is trial 10 with value: -0.07355902148979958.\n",
      "[I 2025-10-30 17:01:23,991] Trial 22 finished with value: -0.11508945928591845 and parameters: {'n_neighbors': 5, 'weights': 'distance', 'algorithm': 'brute', 'leaf_size': 42, 'p': 2, 'metric': 'minkowski'}. Best is trial 10 with value: -0.07355902148979958.\n",
      "[I 2025-10-30 17:01:24,087] Trial 23 finished with value: -0.12957034181740554 and parameters: {'n_neighbors': 6, 'weights': 'distance', 'algorithm': 'brute', 'leaf_size': 50, 'p': 2, 'metric': 'minkowski'}. Best is trial 10 with value: -0.07355902148979958.\n",
      "[I 2025-10-30 17:01:24,186] Trial 24 finished with value: -0.16373936329969538 and parameters: {'n_neighbors': 9, 'weights': 'distance', 'algorithm': 'auto', 'leaf_size': 46, 'p': 2, 'metric': 'minkowski'}. Best is trial 10 with value: -0.07355902148979958.\n",
      "[I 2025-10-30 17:01:24,283] Trial 25 finished with value: -0.09611307671540613 and parameters: {'n_neighbors': 4, 'weights': 'distance', 'algorithm': 'brute', 'leaf_size': 37, 'p': 2, 'metric': 'minkowski'}. Best is trial 10 with value: -0.07355902148979958.\n",
      "[I 2025-10-30 17:01:24,376] Trial 26 finished with value: -0.2714003944773176 and parameters: {'n_neighbors': 15, 'weights': 'uniform', 'algorithm': 'brute', 'leaf_size': 28, 'p': 2, 'metric': 'minkowski'}. Best is trial 10 with value: -0.07355902148979958.\n",
      "[I 2025-10-30 17:01:24,482] Trial 27 finished with value: -0.07355902148979958 and parameters: {'n_neighbors': 3, 'weights': 'distance', 'algorithm': 'brute', 'leaf_size': 46, 'p': 2, 'metric': 'minkowski'}. Best is trial 10 with value: -0.07355902148979958.\n",
      "[I 2025-10-30 17:01:24,591] Trial 28 finished with value: -0.12957034181740554 and parameters: {'n_neighbors': 6, 'weights': 'distance', 'algorithm': 'brute', 'leaf_size': 41, 'p': 2, 'metric': 'euclidean'}. Best is trial 10 with value: -0.07355902148979958.\n",
      "[I 2025-10-30 17:01:24,723] Trial 29 finished with value: -0.13566215269711931 and parameters: {'n_neighbors': 9, 'weights': 'distance', 'algorithm': 'auto', 'leaf_size': 50, 'p': 1, 'metric': 'manhattan'}. Best is trial 10 with value: -0.07355902148979958.\n",
      "[I 2025-10-30 17:01:24,856] Trial 30 finished with value: -0.1868619327393514 and parameters: {'n_neighbors': 17, 'weights': 'distance', 'algorithm': 'brute', 'leaf_size': 41, 'p': 2, 'metric': 'manhattan'}. Best is trial 10 with value: -0.07355902148979958.\n",
      "[I 2025-10-30 17:01:24,958] Trial 31 finished with value: -0.07355902148979958 and parameters: {'n_neighbors': 3, 'weights': 'distance', 'algorithm': 'brute', 'leaf_size': 43, 'p': 2, 'metric': 'minkowski'}. Best is trial 10 with value: -0.07355902148979958.\n",
      "[I 2025-10-30 17:01:25,057] Trial 32 finished with value: -0.11508945928591845 and parameters: {'n_neighbors': 5, 'weights': 'distance', 'algorithm': 'brute', 'leaf_size': 47, 'p': 2, 'metric': 'minkowski'}. Best is trial 10 with value: -0.07355902148979958.\n",
      "[I 2025-10-30 17:01:25,161] Trial 33 finished with value: -0.14488141190343565 and parameters: {'n_neighbors': 7, 'weights': 'distance', 'algorithm': 'brute', 'leaf_size': 36, 'p': 2, 'metric': 'minkowski'}. Best is trial 10 with value: -0.07355902148979958.\n",
      "[I 2025-10-30 17:01:25,259] Trial 34 finished with value: -0.09663896280599883 and parameters: {'n_neighbors': 5, 'weights': 'distance', 'algorithm': 'ball_tree', 'leaf_size': 44, 'p': 2, 'metric': 'manhattan'}. Best is trial 10 with value: -0.07355902148979958.\n",
      "[I 2025-10-30 17:01:25,368] Trial 35 finished with value: -0.08481262327416168 and parameters: {'n_neighbors': 3, 'weights': 'uniform', 'algorithm': 'brute', 'leaf_size': 40, 'p': 1, 'metric': 'minkowski'}. Best is trial 10 with value: -0.07355902148979958.\n",
      "[I 2025-10-30 17:01:25,470] Trial 36 finished with value: -0.14513856201859549 and parameters: {'n_neighbors': 7, 'weights': 'distance', 'algorithm': 'kd_tree', 'leaf_size': 43, 'p': 2, 'metric': 'minkowski'}. Best is trial 10 with value: -0.07355902148979958.\n",
      "[I 2025-10-30 17:01:25,569] Trial 37 finished with value: -0.1434395507331186 and parameters: {'n_neighbors': 10, 'weights': 'distance', 'algorithm': 'ball_tree', 'leaf_size': 34, 'p': 1, 'metric': 'manhattan'}. Best is trial 10 with value: -0.07355902148979958.\n",
      "[I 2025-10-30 17:01:25,671] Trial 38 finished with value: -0.25201031709907445 and parameters: {'n_neighbors': 13, 'weights': 'uniform', 'algorithm': 'brute', 'leaf_size': 12, 'p': 2, 'metric': 'euclidean'}. Best is trial 10 with value: -0.07355902148979958.\n",
      "[I 2025-10-30 17:01:25,783] Trial 39 finished with value: -0.11508945928591845 and parameters: {'n_neighbors': 5, 'weights': 'distance', 'algorithm': 'auto', 'leaf_size': 39, 'p': 2, 'metric': 'minkowski'}. Best is trial 10 with value: -0.07355902148979958.\n",
      "[I 2025-10-30 17:01:25,886] Trial 40 finished with value: -0.11045364891518739 and parameters: {'n_neighbors': 4, 'weights': 'uniform', 'algorithm': 'kd_tree', 'leaf_size': 47, 'p': 1, 'metric': 'minkowski'}. Best is trial 10 with value: -0.07355902148979958.\n",
      "[I 2025-10-30 17:01:25,991] Trial 41 finished with value: -0.07355902148979958 and parameters: {'n_neighbors': 3, 'weights': 'distance', 'algorithm': 'brute', 'leaf_size': 38, 'p': 2, 'metric': 'minkowski'}. Best is trial 10 with value: -0.07355902148979958.\n",
      "[I 2025-10-30 17:01:26,106] Trial 42 finished with value: -0.07355902148979958 and parameters: {'n_neighbors': 3, 'weights': 'distance', 'algorithm': 'brute', 'leaf_size': 32, 'p': 2, 'metric': 'minkowski'}. Best is trial 10 with value: -0.07355902148979958.\n",
      "[I 2025-10-30 17:01:26,207] Trial 43 finished with value: -0.14488141190343565 and parameters: {'n_neighbors': 7, 'weights': 'distance', 'algorithm': 'brute', 'leaf_size': 48, 'p': 2, 'metric': 'minkowski'}. Best is trial 10 with value: -0.07355902148979958.\n",
      "[I 2025-10-30 17:01:26,306] Trial 44 finished with value: -0.11508945928591845 and parameters: {'n_neighbors': 5, 'weights': 'distance', 'algorithm': 'brute', 'leaf_size': 29, 'p': 2, 'metric': 'minkowski'}. Best is trial 10 with value: -0.07355902148979958.\n",
      "[I 2025-10-30 17:01:26,411] Trial 45 finished with value: -0.15357727541575375 and parameters: {'n_neighbors': 8, 'weights': 'distance', 'algorithm': 'ball_tree', 'leaf_size': 24, 'p': 2, 'metric': 'minkowski'}. Best is trial 10 with value: -0.07355902148979958.\n",
      "[I 2025-10-30 17:01:26,522] Trial 46 finished with value: -0.2809316274918914 and parameters: {'n_neighbors': 30, 'weights': 'distance', 'algorithm': 'brute', 'leaf_size': 45, 'p': 2, 'metric': 'minkowski'}. Best is trial 10 with value: -0.07355902148979958.\n",
      "[I 2025-10-30 17:01:26,636] Trial 47 finished with value: -0.2413354640963126 and parameters: {'n_neighbors': 20, 'weights': 'distance', 'algorithm': 'kd_tree', 'leaf_size': 38, 'p': 2, 'metric': 'euclidean'}. Best is trial 10 with value: -0.07355902148979958.\n",
      "[I 2025-10-30 17:01:26,747] Trial 48 finished with value: -0.09611307671540613 and parameters: {'n_neighbors': 4, 'weights': 'distance', 'algorithm': 'brute', 'leaf_size': 50, 'p': 2, 'metric': 'minkowski'}. Best is trial 10 with value: -0.07355902148979958.\n",
      "[I 2025-10-30 17:01:26,856] Trial 49 finished with value: -0.15548980933596324 and parameters: {'n_neighbors': 6, 'weights': 'uniform', 'algorithm': 'brute', 'leaf_size': 18, 'p': 2, 'metric': 'manhattan'}. Best is trial 10 with value: -0.07355902148979958.\n",
      "[I 2025-10-30 17:01:26,968] Trial 50 finished with value: -0.26884065752183656 and parameters: {'n_neighbors': 26, 'weights': 'distance', 'algorithm': 'brute', 'leaf_size': 42, 'p': 2, 'metric': 'minkowski'}. Best is trial 10 with value: -0.07355902148979958.\n",
      "[I 2025-10-30 17:01:27,081] Trial 51 finished with value: -0.07355902148979958 and parameters: {'n_neighbors': 3, 'weights': 'distance', 'algorithm': 'brute', 'leaf_size': 46, 'p': 2, 'metric': 'minkowski'}. Best is trial 10 with value: -0.07355902148979958.\n",
      "[I 2025-10-30 17:01:27,186] Trial 52 finished with value: -0.09611307671540613 and parameters: {'n_neighbors': 4, 'weights': 'distance', 'algorithm': 'brute', 'leaf_size': 48, 'p': 2, 'metric': 'minkowski'}. Best is trial 10 with value: -0.07355902148979958.\n",
      "[I 2025-10-30 17:01:27,294] Trial 53 finished with value: -0.07355902148979958 and parameters: {'n_neighbors': 3, 'weights': 'distance', 'algorithm': 'brute', 'leaf_size': 45, 'p': 2, 'metric': 'minkowski'}. Best is trial 10 with value: -0.07355902148979958.\n",
      "[I 2025-10-30 17:01:27,395] Trial 54 finished with value: -0.11508945928591845 and parameters: {'n_neighbors': 5, 'weights': 'distance', 'algorithm': 'brute', 'leaf_size': 49, 'p': 2, 'metric': 'minkowski'}. Best is trial 10 with value: -0.07355902148979958.\n",
      "[I 2025-10-30 17:01:27,503] Trial 55 finished with value: -0.12957034181740554 and parameters: {'n_neighbors': 6, 'weights': 'distance', 'algorithm': 'auto', 'leaf_size': 40, 'p': 2, 'metric': 'minkowski'}. Best is trial 10 with value: -0.07355902148979958.\n",
      "[I 2025-10-30 17:01:27,609] Trial 56 finished with value: -0.153100698781376 and parameters: {'n_neighbors': 8, 'weights': 'distance', 'algorithm': 'brute', 'leaf_size': 46, 'p': 2, 'metric': 'minkowski'}. Best is trial 10 with value: -0.07355902148979958.\n",
      "[I 2025-10-30 17:01:27,715] Trial 57 finished with value: -0.09611307671540613 and parameters: {'n_neighbors': 4, 'weights': 'distance', 'algorithm': 'brute', 'leaf_size': 43, 'p': 2, 'metric': 'minkowski'}. Best is trial 10 with value: -0.07355902148979958.\n",
      "[I 2025-10-30 17:01:27,818] Trial 58 finished with value: -0.073804733842719 and parameters: {'n_neighbors': 3, 'weights': 'distance', 'algorithm': 'ball_tree', 'leaf_size': 36, 'p': 2, 'metric': 'euclidean'}. Best is trial 10 with value: -0.07355902148979958.\n",
      "[I 2025-10-30 17:01:27,925] Trial 59 finished with value: -0.14488141190343565 and parameters: {'n_neighbors': 7, 'weights': 'distance', 'algorithm': 'brute', 'leaf_size': 44, 'p': 2, 'metric': 'minkowski'}. Best is trial 10 with value: -0.07355902148979958.\n",
      "[I 2025-10-30 17:01:28,024] Trial 60 finished with value: -0.21104536489151868 and parameters: {'n_neighbors': 9, 'weights': 'uniform', 'algorithm': 'brute', 'leaf_size': 48, 'p': 2, 'metric': 'minkowski'}. Best is trial 10 with value: -0.07355902148979958.\n",
      "[I 2025-10-30 17:01:28,138] Trial 61 finished with value: -0.09611307671540613 and parameters: {'n_neighbors': 4, 'weights': 'distance', 'algorithm': 'brute', 'leaf_size': 42, 'p': 2, 'metric': 'minkowski'}. Best is trial 10 with value: -0.07355902148979958.\n",
      "[I 2025-10-30 17:01:28,248] Trial 62 finished with value: -0.07355902148979958 and parameters: {'n_neighbors': 3, 'weights': 'distance', 'algorithm': 'brute', 'leaf_size': 46, 'p': 2, 'metric': 'minkowski'}. Best is trial 10 with value: -0.07355902148979958.\n",
      "[I 2025-10-30 17:01:28,362] Trial 63 finished with value: -0.12957034181740554 and parameters: {'n_neighbors': 6, 'weights': 'distance', 'algorithm': 'brute', 'leaf_size': 43, 'p': 2, 'metric': 'minkowski'}. Best is trial 10 with value: -0.07355902148979958.\n",
      "[I 2025-10-30 17:01:28,472] Trial 64 finished with value: -0.11508945928591845 and parameters: {'n_neighbors': 5, 'weights': 'distance', 'algorithm': 'brute', 'leaf_size': 50, 'p': 2, 'metric': 'minkowski'}. Best is trial 10 with value: -0.07355902148979958.\n",
      "[I 2025-10-30 17:01:28,582] Trial 65 finished with value: -0.07355902148979958 and parameters: {'n_neighbors': 3, 'weights': 'distance', 'algorithm': 'brute', 'leaf_size': 41, 'p': 2, 'metric': 'minkowski'}. Best is trial 10 with value: -0.07355902148979958.\n",
      "[I 2025-10-30 17:01:28,693] Trial 66 finished with value: -0.08378728319735355 and parameters: {'n_neighbors': 4, 'weights': 'distance', 'algorithm': 'kd_tree', 'leaf_size': 39, 'p': 2, 'metric': 'manhattan'}. Best is trial 10 with value: -0.07355902148979958.\n",
      "[I 2025-10-30 17:01:28,811] Trial 67 finished with value: -0.11508945928591845 and parameters: {'n_neighbors': 5, 'weights': 'distance', 'algorithm': 'auto', 'leaf_size': 34, 'p': 2, 'metric': 'minkowski'}. Best is trial 10 with value: -0.07355902148979958.\n",
      "[I 2025-10-30 17:01:28,923] Trial 68 finished with value: -0.09611307671540613 and parameters: {'n_neighbors': 4, 'weights': 'distance', 'algorithm': 'brute', 'leaf_size': 47, 'p': 2, 'metric': 'minkowski'}. Best is trial 10 with value: -0.07355902148979958.\n",
      "[I 2025-10-30 17:01:29,032] Trial 69 finished with value: -0.14488141190343565 and parameters: {'n_neighbors': 7, 'weights': 'distance', 'algorithm': 'brute', 'leaf_size': 44, 'p': 1, 'metric': 'euclidean'}. Best is trial 10 with value: -0.07355902148979958.\n",
      "[I 2025-10-30 17:01:29,144] Trial 70 finished with value: -0.194329946329464 and parameters: {'n_neighbors': 12, 'weights': 'distance', 'algorithm': 'brute', 'leaf_size': 36, 'p': 2, 'metric': 'minkowski'}. Best is trial 10 with value: -0.07355902148979958.\n",
      "[I 2025-10-30 17:01:29,252] Trial 71 finished with value: -0.07355902148979958 and parameters: {'n_neighbors': 3, 'weights': 'distance', 'algorithm': 'brute', 'leaf_size': 37, 'p': 2, 'metric': 'minkowski'}. Best is trial 10 with value: -0.07355902148979958.\n",
      "[I 2025-10-30 17:01:29,352] Trial 72 finished with value: -0.07355902148979958 and parameters: {'n_neighbors': 3, 'weights': 'distance', 'algorithm': 'brute', 'leaf_size': 38, 'p': 2, 'metric': 'minkowski'}. Best is trial 10 with value: -0.07355902148979958.\n",
      "[I 2025-10-30 17:01:29,461] Trial 73 finished with value: -0.12957034181740554 and parameters: {'n_neighbors': 6, 'weights': 'distance', 'algorithm': 'brute', 'leaf_size': 49, 'p': 2, 'metric': 'minkowski'}. Best is trial 10 with value: -0.07355902148979958.\n",
      "[I 2025-10-30 17:01:29,566] Trial 74 finished with value: -0.09611307671540613 and parameters: {'n_neighbors': 4, 'weights': 'distance', 'algorithm': 'brute', 'leaf_size': 38, 'p': 2, 'metric': 'minkowski'}. Best is trial 10 with value: -0.07355902148979958.\n",
      "[I 2025-10-30 17:01:29,673] Trial 75 finished with value: -0.11512086652005532 and parameters: {'n_neighbors': 5, 'weights': 'distance', 'algorithm': 'ball_tree', 'leaf_size': 40, 'p': 2, 'metric': 'minkowski'}. Best is trial 10 with value: -0.07355902148979958.\n",
      "[I 2025-10-30 17:01:29,776] Trial 76 finished with value: -0.09138724523339904 and parameters: {'n_neighbors': 3, 'weights': 'uniform', 'algorithm': 'brute', 'leaf_size': 45, 'p': 2, 'metric': 'minkowski'}. Best is trial 10 with value: -0.07355902148979958.\n",
      "[I 2025-10-30 17:01:29,901] Trial 77 finished with value: -0.24963822869422367 and parameters: {'n_neighbors': 22, 'weights': 'distance', 'algorithm': 'brute', 'leaf_size': 31, 'p': 2, 'metric': 'minkowski'}. Best is trial 10 with value: -0.07355902148979958.\n",
      "[I 2025-10-30 17:01:30,017] Trial 78 finished with value: -0.08378728319735355 and parameters: {'n_neighbors': 4, 'weights': 'distance', 'algorithm': 'kd_tree', 'leaf_size': 33, 'p': 2, 'metric': 'manhattan'}. Best is trial 10 with value: -0.07355902148979958.\n",
      "[I 2025-10-30 17:01:30,126] Trial 79 finished with value: -0.12957034181740554 and parameters: {'n_neighbors': 6, 'weights': 'distance', 'algorithm': 'brute', 'leaf_size': 43, 'p': 2, 'metric': 'minkowski'}. Best is trial 10 with value: -0.07355902148979958.\n",
      "[I 2025-10-30 17:01:30,238] Trial 80 finished with value: -0.22192921084371905 and parameters: {'n_neighbors': 16, 'weights': 'distance', 'algorithm': 'brute', 'leaf_size': 47, 'p': 2, 'metric': 'minkowski'}. Best is trial 10 with value: -0.07355902148979958.\n",
      "[I 2025-10-30 17:01:30,343] Trial 81 finished with value: -0.07355902148979958 and parameters: {'n_neighbors': 3, 'weights': 'distance', 'algorithm': 'brute', 'leaf_size': 25, 'p': 2, 'metric': 'minkowski'}. Best is trial 10 with value: -0.07355902148979958.\n",
      "[I 2025-10-30 17:01:30,449] Trial 82 finished with value: -0.07355902148979958 and parameters: {'n_neighbors': 3, 'weights': 'distance', 'algorithm': 'brute', 'leaf_size': 32, 'p': 2, 'metric': 'minkowski'}. Best is trial 10 with value: -0.07355902148979958.\n",
      "[I 2025-10-30 17:01:30,554] Trial 83 finished with value: -0.11508945928591845 and parameters: {'n_neighbors': 5, 'weights': 'distance', 'algorithm': 'brute', 'leaf_size': 27, 'p': 2, 'metric': 'minkowski'}. Best is trial 10 with value: -0.07355902148979958.\n",
      "[I 2025-10-30 17:01:30,656] Trial 84 finished with value: -0.09611307671540613 and parameters: {'n_neighbors': 4, 'weights': 'distance', 'algorithm': 'brute', 'leaf_size': 41, 'p': 2, 'metric': 'minkowski'}. Best is trial 10 with value: -0.07355902148979958.\n",
      "[I 2025-10-30 17:01:30,764] Trial 85 finished with value: -0.11508945928591845 and parameters: {'n_neighbors': 5, 'weights': 'distance', 'algorithm': 'auto', 'leaf_size': 20, 'p': 2, 'metric': 'minkowski'}. Best is trial 10 with value: -0.07355902148979958.\n",
      "[I 2025-10-30 17:01:30,872] Trial 86 finished with value: -0.07355902148979958 and parameters: {'n_neighbors': 3, 'weights': 'distance', 'algorithm': 'brute', 'leaf_size': 35, 'p': 2, 'metric': 'euclidean'}. Best is trial 10 with value: -0.07355902148979958.\n",
      "[I 2025-10-30 17:01:30,970] Trial 87 finished with value: -0.12278106508875741 and parameters: {'n_neighbors': 4, 'weights': 'uniform', 'algorithm': 'brute', 'leaf_size': 49, 'p': 2, 'metric': 'minkowski'}. Best is trial 10 with value: -0.07355902148979958.\n",
      "[I 2025-10-30 17:01:31,081] Trial 88 finished with value: -0.12957034181740554 and parameters: {'n_neighbors': 6, 'weights': 'distance', 'algorithm': 'brute', 'leaf_size': 37, 'p': 2, 'metric': 'minkowski'}. Best is trial 10 with value: -0.07355902148979958.\n",
      "[I 2025-10-30 17:01:31,178] Trial 89 finished with value: -0.073804733842719 and parameters: {'n_neighbors': 3, 'weights': 'distance', 'algorithm': 'ball_tree', 'leaf_size': 35, 'p': 2, 'metric': 'minkowski'}. Best is trial 10 with value: -0.07355902148979958.\n",
      "[I 2025-10-30 17:01:31,295] Trial 90 finished with value: -0.11508945928591845 and parameters: {'n_neighbors': 5, 'weights': 'distance', 'algorithm': 'brute', 'leaf_size': 42, 'p': 2, 'metric': 'minkowski'}. Best is trial 10 with value: -0.07355902148979958.\n",
      "[I 2025-10-30 17:01:31,408] Trial 91 finished with value: -0.07355902148979958 and parameters: {'n_neighbors': 3, 'weights': 'distance', 'algorithm': 'brute', 'leaf_size': 46, 'p': 2, 'metric': 'minkowski'}. Best is trial 10 with value: -0.07355902148979958.\n",
      "[I 2025-10-30 17:01:31,519] Trial 92 finished with value: -0.09611307671540613 and parameters: {'n_neighbors': 4, 'weights': 'distance', 'algorithm': 'brute', 'leaf_size': 48, 'p': 2, 'metric': 'minkowski'}. Best is trial 10 with value: -0.07355902148979958.\n",
      "[I 2025-10-30 17:01:31,626] Trial 93 finished with value: -0.07355902148979958 and parameters: {'n_neighbors': 3, 'weights': 'distance', 'algorithm': 'brute', 'leaf_size': 45, 'p': 2, 'metric': 'minkowski'}. Best is trial 10 with value: -0.07355902148979958.\n",
      "[I 2025-10-30 17:01:31,731] Trial 94 finished with value: -0.09611307671540613 and parameters: {'n_neighbors': 4, 'weights': 'distance', 'algorithm': 'brute', 'leaf_size': 40, 'p': 2, 'metric': 'minkowski'}. Best is trial 10 with value: -0.07355902148979958.\n",
      "[I 2025-10-30 17:01:31,837] Trial 95 finished with value: -0.11508945928591845 and parameters: {'n_neighbors': 5, 'weights': 'distance', 'algorithm': 'brute', 'leaf_size': 44, 'p': 2, 'metric': 'minkowski'}. Best is trial 10 with value: -0.07355902148979958.\n",
      "[I 2025-10-30 17:01:31,968] Trial 96 finished with value: -0.12771802062680196 and parameters: {'n_neighbors': 8, 'weights': 'distance', 'algorithm': 'brute', 'leaf_size': 39, 'p': 2, 'metric': 'manhattan'}. Best is trial 10 with value: -0.07355902148979958.\n",
      "[I 2025-10-30 17:01:32,076] Trial 97 finished with value: -0.06857897218987918 and parameters: {'n_neighbors': 3, 'weights': 'distance', 'algorithm': 'kd_tree', 'leaf_size': 46, 'p': 1, 'metric': 'minkowski'}. Best is trial 97 with value: -0.06857897218987918.\n",
      "[I 2025-10-30 17:01:32,191] Trial 98 finished with value: -0.11743607723615057 and parameters: {'n_neighbors': 7, 'weights': 'distance', 'algorithm': 'kd_tree', 'leaf_size': 50, 'p': 1, 'metric': 'minkowski'}. Best is trial 97 with value: -0.06857897218987918.\n",
      "[I 2025-10-30 17:01:32,302] Trial 99 finished with value: -0.08300935595825452 and parameters: {'n_neighbors': 4, 'weights': 'distance', 'algorithm': 'kd_tree', 'leaf_size': 47, 'p': 1, 'metric': 'minkowski'}. Best is trial 97 with value: -0.06857897218987918.\n"
     ]
    },
    {
     "name": "stdout",
     "output_type": "stream",
     "text": [
      "\n",
      "Melhores hiperparâmetros:\n",
      "{'n_neighbors': 3, 'weights': 'distance', 'algorithm': 'kd_tree', 'leaf_size': 46, 'p': 1, 'metric': 'minkowski'}\n",
      "Melhor MAE negativo: -0.0686\n"
     ]
    }
   ],
   "source": [
    "study = optuna.create_study(direction='maximize') \n",
    "study.optimize(objetivo_knn, n_trials=NUM_TRIALS)\n",
    "\n",
    "print(\"\\nMelhores hiperparâmetros:\")\n",
    "print(study.best_params)\n",
    "print(f\"Melhor MAE negativo: {study.best_value:.4f}\")"
   ]
  },
  {
   "cell_type": "markdown",
   "id": "909f4210-48e6-4f5f-a022-4cbd7a1f6637",
   "metadata": {},
   "source": [
    "Esse processo testa 100 combinações diferentes de hiperparâmetros e usa validação cruzada para evitar overfitting de um forma que maximiza neg_mean_absolute_error (equivale a minimizar MAE)."
   ]
  },
  {
   "cell_type": "markdown",
   "id": "fe28457f-0620-4f54-9f60-90300a6a10e6",
   "metadata": {},
   "source": [
    "### Treinamento e Previsão do Modelo Final"
   ]
  },
  {
   "cell_type": "code",
   "execution_count": 9,
   "id": "73331e81-d052-4e0b-beec-05d7fd285f37",
   "metadata": {},
   "outputs": [],
   "source": [
    "best_params = study.best_params\n",
    "modelo_final = KNeighborsRegressor(**best_params) \n",
    "modelo_final.fit(X_treino_scaled, y_treino_)\n",
    "\n",
    "y_val_pred = modelo_final.predict(X_val_scaled)"
   ]
  },
  {
   "cell_type": "markdown",
   "id": "cc2ea664-0a0a-4e0d-9a8e-a0be98a2464f",
   "metadata": {},
   "source": [
    "O treinamento é feito com os melhores hiperparâmetros encontrados em 100 tentativas."
   ]
  },
  {
   "cell_type": "markdown",
   "id": "224a6d05-42e8-4407-982f-7cc4055951ec",
   "metadata": {},
   "source": [
    "### Avaliação do Modelo"
   ]
  },
  {
   "cell_type": "code",
   "execution_count": 10,
   "id": "10ac4f06-493c-4bad-9611-e6c3bb141bf8",
   "metadata": {},
   "outputs": [
    {
     "name": "stdout",
     "output_type": "stream",
     "text": [
      "Desempenho na validação\n",
      "MSE: 0.0589\n",
      "MAE: 0.0785\n",
      "RMSE: 0.2427\n"
     ]
    }
   ],
   "source": [
    "mse_val = mean_squared_error(y_val, y_val_pred)\n",
    "mae_val = mean_absolute_error(y_val, y_val_pred)\n",
    "\n",
    "print(\"Desempenho na validação\")\n",
    "print(f\"MSE: {mse_val:.4f}\")\n",
    "print(f\"MAE: {mae_val:.4f}\")\n",
    "print(f\"RMSE: {np.sqrt(mse_val):.4f}\")"
   ]
  },
  {
   "cell_type": "code",
   "execution_count": 11,
   "id": "c5e57aa0-cb01-4e2f-b2eb-9fcd694a5949",
   "metadata": {},
   "outputs": [
    {
     "name": "stdout",
     "output_type": "stream",
     "text": [
      "Desempenho do conjunto de teste\n",
      "MSE: 0.0639\n",
      "MAE: 0.1026\n",
      "RMSE: 0.2528\n"
     ]
    }
   ],
   "source": [
    "y_teste_pred = modelo_final.predict(X_teste_scaled)\n",
    "\n",
    "print(\"Desempenho do conjunto de teste\")\n",
    "print(f\"MSE: {mean_squared_error(y_teste, y_teste_pred):.4f}\")\n",
    "print(f\"MAE: {mean_absolute_error(y_teste, y_teste_pred):.4f}\")\n",
    "print(f\"RMSE: {np.sqrt(mean_squared_error(y_teste, y_teste_pred)):.4f}\")"
   ]
  },
  {
   "cell_type": "markdown",
   "id": "192a82ef-5e8d-43c0-bfb9-87ba5d58e369",
   "metadata": {},
   "source": [
    "**Métricas usadas:**\n",
    "* MSE (Mean Squared Error): Penaliza mais erros grandes\n",
    "* MAE (Mean Absolute Error): Interpretação mais direta\n",
    "* RMSE (Root Mean Squared Error): Mais fácil de visualizar por estar na mesma unidade do target"
   ]
  },
  {
   "cell_type": "markdown",
   "id": "f1f3f431-a826-46bd-8cc6-7c071ed1042b",
   "metadata": {},
   "source": [
    "### Gráfico de dispersão: Valores Reais vs Preditos"
   ]
  },
  {
   "cell_type": "code",
   "execution_count": 12,
   "id": "1009add8-2d59-4a53-b25e-9edd2cd6f16d",
   "metadata": {},
   "outputs": [
    {
     "data": {
      "text/plain": [
       "<matplotlib.legend.Legend at 0x28c9fc7bf50>"
      ]
     },
     "execution_count": 12,
     "metadata": {},
     "output_type": "execute_result"
    },
    {
     "data": {
      "image/png": "[encoded data removed]",
      "text/plain": [
       "<Figure size 640x480 with 1 Axes>"
      ]
     },
     "metadata": {},
     "output_type": "display_data"
    }
   ],
   "source": [
    "# definindo os valores máximos e mínimos dos eixos do gráfico\n",
    "min_val = min(y_teste.min(), y_teste_pred.min())\n",
    "max_val = max(y_teste.max(), y_teste_pred.max())\n",
    "intervalo = [min_val * 0.95, max_val * 1.05]\n",
    " \n",
    "# plotando o gráfico\n",
    "eixo = sns.scatterplot(x=y_teste, y=y_teste_pred, label=\"Dados\", color=\"cyan\")\n",
    "eixo.plot(intervalo, intervalo, \"--\", label=\"Identidade\", color=\"brown\")\n",
    "eixo.set(\n",
    "    xlabel=\"$y$ verdadeiro\",\n",
    "    ylabel=\"$y$ previsto\",\n",
    "    xlim=intervalo,\n",
    "    ylim=intervalo,\n",
    "    aspect=\"equal\",\n",
    ")\n",
    "eixo.legend()"
   ]
  },
  {
   "cell_type": "markdown",
   "id": "2d4c8bb6-4461-4154-8eac-db74b44125b6",
   "metadata": {},
   "source": [
    "**Interpretação:** A dispersão em geral tem pontos próximos à linha vermelha o que indica boas previsões, todavia fica visível que os pontos com notas mais altas não são tão comuns o que indica que o modelo está subestimando os resultados."
   ]
  },
  {
   "cell_type": "code",
   "execution_count": 13,
   "id": "c69906a6-2080-4ca3-8be2-4b6dc7a8862d",
   "metadata": {},
   "outputs": [
    {
     "name": "stdout",
     "output_type": "stream",
     "text": [
      "Resumo\n",
      "Melhores hiperparâmetros: {'n_neighbors': 3, 'weights': 'distance', 'algorithm': 'kd_tree', 'leaf_size': 46, 'p': 1, 'metric': 'minkowski'}\n",
      "MSE no teste: 0.0639\n",
      "MAE no teste: 0.1026\n",
      "Número de features: 130\n"
     ]
    }
   ],
   "source": [
    "print(\"Resumo\")\n",
    "print(f\"Melhores hiperparâmetros: {study.best_params}\")\n",
    "print(f\"MSE no teste: {mean_squared_error(y_teste, y_teste_pred):.4f}\")\n",
    "print(f\"MAE no teste: {mean_absolute_error(y_teste, y_teste_pred):.4f}\")\n",
    "print(f\"Número de features: {X_treino_scaled.shape[1]}\")"
   ]
  },
  {
   "cell_type": "markdown",
   "id": "2a511176-632f-4a12-b0ce-32f8ad33182a",
   "metadata": {},
   "source": [
    "## Desempenho e Aplicabilidade do Modelo KNN na Predição de Saúde Mental\n",
    "Foi observados que o Knn tem uma fácil implementação. Os resultados obtidos revelam que o Knn foi capaz de capturar relações complexas entre as variáveis preditoras e o target de saúde mental, com métricas de desempenho consistentes entre os conjuntos de validação e teste. A análise de resíduos mostrou um padrão aleatório em torno de zero, indicando que o modelo não apresenta viés sistemático e está bem ajustado aos dados. Ele pode não ser tão positivo se considerado que requer normalização e é lento com datasets grandes."
   ]
  },
  {
   "cell_type": "markdown",
   "id": "e27bae3e-8da3-4f1b-b685-e90bcfcc31f8",
   "metadata": {},
   "source": [
    "# **Conclusão**\n",
    "\n",
    "A implementação do algoritmo K-Nearest Neighbors demonstrou ser uma abordagem eficaz e interpretável para a predição de notas de saúde mental baseados em padrões de uso de redes sociais e características individuais. Através do processo de otimização sistemática com Optuna, foi possível identificar uma configuração de hiperparâmetros que equilibra adequadamente precisão preditiva e eficiência computacional. Para aplicações práticas, o modelo KNN desenvolvido oferece uma ferramenta valiosa para identificar estudantes em potencial risco baseado em seus padrões de comportamento digital. Instituições educacionais e profissionais de saúde poderiam utilizar essas predições para direcionar intervenções preventivas e recursos de apoio. Em síntese, este trabalho não apenas valida a aplicabilidade do KNN em problemas de regressão no domínio da saúde digital, mas também estabelece uma base metodológica sólida para futuras investigações sobre a delicada relação entre tecnologia e bem-estar psicológico."
   ]
  },
  {
   "cell_type": "markdown",
   "id": "dd365608-e830-46a6-be46-e89b875713c6",
   "metadata": {},
   "source": [
    "## Referências\n",
    "\n",
    "[1] OPTUNA. **Optuna: A hyperparameter optimization framework**. Disponível em: <https://optuna.org/>. \n",
    "\n",
    "[2] SCIKIT-LEARN. **sklearn.model_selection.cross_val_score**. Disponível em: <https://scikit-learn.org/stable/modules/generated/sklearn.model_selection.cross_val_score.html>. \n",
    "\n",
    "[3] SCIKIT-LEARN. **sklearn.neighbors.KNeighborsClassifier**. Disponível em: <https://scikit-learn.org/stable/modules/generated/sklearn.neighbors.KNeighborsClassifier.html>. \n",
    "\n",
    "[4] SCIKIT-LEARN. **sklearn.preprocessing.StandardScaler**. Disponível em: <https://scikit-learn.org/stable/modules/generated/sklearn.preprocessing.StandardScaler.html>.\n",
    "\n",
    "[5] SEABORN. **seaborn: statistical data visualization**. Disponível em: <https://seaborn.pydata.org/>. Acesso em: 17 out. 2024.\n",
    "\n",
    "[6] SCIKIT-LEARN. User guide: contents — scikit-learn 0.22.1 documentation.  \n",
    "Disponível em: <https://scikit-learn.org/stable/user_guide.html>. "
   ]
  }
 ],
 "metadata": {
  "kernelspec": {
   "display_name": "ilumpy",
   "language": "python",
   "name": "ilumpy"
  },
  "language_info": {
   "codemirror_mode": {
    "name": "ipython",
    "version": 3
   },
   "file_extension": ".py",
   "mimetype": "text/x-python",
   "name": "python",
   "nbconvert_exporter": "python",
   "pygments_lexer": "ipython3",
   "version": "3.12.7"
  }
 },
 "nbformat": 4,
 "nbformat_minor": 5
}
