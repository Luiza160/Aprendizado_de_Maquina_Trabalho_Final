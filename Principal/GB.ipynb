{
 "cells": [
  {
   "cell_type": "markdown",
   "id": "90edc35a-dbb8-4f03-81d4-447cb0528bc2",
   "metadata": {},
   "source": [
    "# <div class=\"alert alert-warning\" style=\"background-color: #fff3e0; color: #9370db;;\"> <center><font color= #9370db>**Desempenho do modelo em Gradient Boosting**</font></center>\n",
    " \n",
    "<center>Autoras: Luiza Davoli, Samarah L. M. Ramos e Sarah S. Silva</center>\n",
    " \n",
    " \n",
    "<center>˚ · • . ° .˚ · • . ° .˚ · • . ° .˚ · • . ° .˚ · • . ° .˚ · • . ° .˚ · • . ° .˚ · • . ° .˚ · • . ° .˚ · • . ° .˚ · • . ° .˚ · • . ° .˚ · • . ° .˚ · • . ° .˚ · • . ° .˚ · • . ° .˚ · • . ° .</center>"
   ]
  },
  {
   "cell_type": "markdown",
   "id": "f5b60e4f-74f4-4bb2-8921-0383609b63e7",
   "metadata": {},
   "source": [
    "## Introdução\n",
    "\n",
    "O **Gradient Boosting** representa uma das abordagens mais poderosas no aprendizado de máquina moderno, baseando-se no princípio de **combinação sequencial de modelos fracos** para formar um preditor robusto. Desenvolvido a partir do framework de boosting, este algoritmo constrói árvores de decisão de maneira iterativa, onde cada nova árvore corrige os erros das anteriores, minimizando gradientemente uma função de perda.\n",
    "\n",
    "No contexto deste estudo, aplicamos o Gradient Boosting na modalidade de **regressão** para prever escores de saúde mental de estudantes baseados em seus hábitos de uso de redes sociais, características demográficas e comportamentais. A escolha deste algoritmo se justifica pela sua **alta capacidade preditiva** e **resistência ao overfitting** quando devidamente regularizado.\n",
    "\n",
    "A implementação aborda os **principais componentes do Gradient Boosting**, incluindo a seleção da função de perda (squared error para regressão), taxa de aprendizado, profundidade das árvores, e estratégias de regularização como subsampling e redução de features. Utilizamos o framework Optuna para uma busca sistemática e eficiente da configuração ótima, garantindo robustez aos resultados.\n",
    "\n",
    "Esta análise não apenas demonstra a aplicação prática do Gradient Boosting, mas também explora sua efetividade em um problema de saúde pública contemporâneo, oferecendo insights sobre a relação entre uso de mídias sociais e bem-estar psicológico através de um modelo de alto desempenho preditivo."
   ]
  },
  {
   "cell_type": "markdown",
   "id": "d7b681b7-aa07-4a9f-a06b-86e20b623b7f",
   "metadata": {},
   "source": [
    "### Importação de bibliotecas"
   ]
  },
  {
   "cell_type": "code",
   "execution_count": 1,
   "id": "fa2e665a-a5ec-4c47-a0a5-08a37d5e978c",
   "metadata": {},
   "outputs": [],
   "source": [
    "import pandas as pd\n",
    "import numpy as np\n",
    "from sklearn.model_selection import train_test_split, cross_val_score\n",
    "from sklearn.ensemble import GradientBoostingRegressor\n",
    "from sklearn.metrics import mean_squared_error, mean_absolute_error, r2_score\n",
    "from sklearn.preprocessing import StandardScaler, OneHotEncoder\n",
    "import matplotlib.pyplot as plt\n",
    "import seaborn as sns\n",
    "import optuna\n",
    "from optuna.visualization import plot_optimization_history, plot_param_importances"
   ]
  },
  {
   "cell_type": "markdown",
   "id": "941f1c47-5eec-4327-aecb-2c2fc0a64945",
   "metadata": {},
   "source": [
    "### Pré definido"
   ]
  },
  {
   "cell_type": "code",
   "execution_count": 2,
   "id": "0353af2e-8665-43c6-8725-06fbd8f870d3",
   "metadata": {},
   "outputs": [],
   "source": [
    "SEMENTE_ALEATORIA = 41\n",
    "NUM_FOLDS = 3\n",
    "NUM_TRIALS = 100"
   ]
  },
  {
   "cell_type": "markdown",
   "id": "91a160fc-3db9-4699-ae5b-ae56cad2f0dd",
   "metadata": {},
   "source": [
    "* SEMENTE_ALEATORIA: Garante reprodutibilidade dos resultados\n",
    "* NUM_FOLDS: Número de folds para validação cruzada\n",
    "* NUM_TRIALS: Número de tentativas para otimização com Optuna"
   ]
  },
  {
   "cell_type": "markdown",
   "id": "2225bb06-8bb9-458f-9ae4-d031c8e1c1d9",
   "metadata": {},
   "source": [
    "### Lê o data frame"
   ]
  },
  {
   "cell_type": "code",
   "execution_count": 3,
   "id": "6871a1f5-dc01-4977-903a-0d51a55abd51",
   "metadata": {},
   "outputs": [
    {
     "name": "stdout",
     "output_type": "stream",
     "text": [
      "Dataset shape: (705, 13)\n",
      "Primeiras 5 linhas:\n",
      "   Student_ID  Age  Gender Academic_Level     Country  Avg_Daily_Usage_Hours  \\\n",
      "0           1   19  Female  Undergraduate  Bangladesh                    5.2   \n",
      "1           2   22    Male       Graduate       India                    2.1   \n",
      "2           3   20  Female  Undergraduate         USA                    6.0   \n",
      "3           4   18    Male    High School          UK                    3.0   \n",
      "4           5   21    Male       Graduate      Canada                    4.5   \n",
      "\n",
      "  Most_Used_Platform Affects_Academic_Performance  Sleep_Hours_Per_Night  \\\n",
      "0          Instagram                          Yes                    6.5   \n",
      "1            Twitter                           No                    7.5   \n",
      "2             TikTok                          Yes                    5.0   \n",
      "3            YouTube                           No                    7.0   \n",
      "4           Facebook                          Yes                    6.0   \n",
      "\n",
      "   Mental_Health_Score Relationship_Status  Conflicts_Over_Social_Media  \\\n",
      "0                    6     In Relationship                            3   \n",
      "1                    8              Single                            0   \n",
      "2                    5         Complicated                            4   \n",
      "3                    7              Single                            1   \n",
      "4                    6     In Relationship                            2   \n",
      "\n",
      "   Addicted_Score  \n",
      "0               8  \n",
      "1               3  \n",
      "2               9  \n",
      "3               4  \n",
      "4               7  \n"
     ]
    }
   ],
   "source": [
    "df = pd.read_csv(\"dados_tratados.csv\")\n",
    "print(f\"Dataset shape: {df.shape}\")\n",
    "print(f\"Primeiras 5 linhas:\")\n",
    "print(df.head())"
   ]
  },
  {
   "cell_type": "markdown",
   "id": "51de3444-82ad-40e3-8413-f5c55b67e411",
   "metadata": {},
   "source": [
    "### Separando variáveis numéricas e categóricas"
   ]
  },
  {
   "cell_type": "code",
   "execution_count": 4,
   "id": "c43c1a44-25bd-4d69-804e-f62575ade439",
   "metadata": {},
   "outputs": [
    {
     "name": "stdout",
     "output_type": "stream",
     "text": [
      "Shape de X: (705, 130)\n",
      "Shape de y: (705,)\n"
     ]
    }
   ],
   "source": [
    "numericos = df[[\"Age\", \n",
    "                \"Avg_Daily_Usage_Hours\", \n",
    "                \"Sleep_Hours_Per_Night\", \n",
    "                \"Conflicts_Over_Social_Media\", \n",
    "                \"Addicted_Score\"]].values\n",
    "\n",
    "categoricos = df[[\"Academic_Level\",\n",
    "                 \"Country\", \n",
    "                 \"Most_Used_Platform\",\n",
    "                 \"Affects_Academic_Performance\",\n",
    "                 \"Relationship_Status\"]].values\n",
    "\n",
    "encoder = OneHotEncoder(sparse_output=False, drop='first')  \n",
    "\n",
    "categ_encoded = encoder.fit_transform(categoricos)\n",
    "\n",
    "X = np.hstack([numericos, categ_encoded])\n",
    "\n",
    "y = df[\"Mental_Health_Score\"].values\n",
    "\n",
    "print(f\"Shape de X: {X.shape}\")\n",
    "print(f\"Shape de y: {y.shape}\")"
   ]
  },
  {
   "cell_type": "markdown",
   "id": "7a683963-e38f-48d5-bf8b-3a104c7c192f",
   "metadata": {},
   "source": [
    "**Estrutura dos dados:**\n",
    "* Variáveis numéricas: Age, Avg_Daily_Usage_Hours, Sleep_Hours_Per_Night, etc.\n",
    "* Variáveis categóricas: Gender, Academic_Level, Country, etc.\n",
    "* Target: Mental_Health_Score (variável contínua → regressão)"
   ]
  },
  {
   "cell_type": "markdown",
   "id": "648d879d-b693-4266-b542-045e5f22de58",
   "metadata": {},
   "source": [
    "## Divisão dos Dados"
   ]
  },
  {
   "cell_type": "code",
   "execution_count": 5,
   "id": "f1506d17-647a-4f42-bb07-c6296c5a4b6f",
   "metadata": {},
   "outputs": [],
   "source": [
    "X_treino, X_teste, y_treino, y_teste = train_test_split(\n",
    "    X, y, test_size=0.2, random_state=SEMENTE_ALEATORIA  \n",
    ")\n",
    "\n",
    "X_treino_, X_val, y_treino_, y_val = train_test_split(\n",
    "    X_treino, y_treino, test_size=0.1, random_state=SEMENTE_ALEATORIA  \n",
    ")"
   ]
  },
  {
   "cell_type": "markdown",
   "id": "1d0e2fb4-3180-4c48-a482-e17df10c0822",
   "metadata": {},
   "source": [
    "### Normalização dos dados "
   ]
  },
  {
   "cell_type": "code",
   "execution_count": 6,
   "id": "252b9875-3269-4053-a902-e538e39b4e63",
   "metadata": {},
   "outputs": [],
   "source": [
    "scaler = StandardScaler()\n",
    "X_treino_scaled = scaler.fit_transform(X_treino_)\n",
    "X_val_scaled = scaler.transform(X_val)\n",
    "X_teste_scaled = scaler.transform(X_teste)"
   ]
  },
  {
   "cell_type": "markdown",
   "id": "60b7aaf0-379e-45f9-bf45-8fbaf21a9b27",
   "metadata": {},
   "source": [
    "## Função de Otimização com Optuna"
   ]
  },
  {
   "cell_type": "code",
   "execution_count": 7,
   "id": "d88a2a4c-bafe-4a2d-9d26-f0ece5f67e4d",
   "metadata": {},
   "outputs": [],
   "source": [
    "def objetivo_gradient_boosting(trial):\n",
    "    X_temp, y_temp = X_treino_, y_treino_\n",
    "    \n",
    "    parametros = {\n",
    "        'n_estimators': trial.suggest_int('n_estimators', 50, 500),\n",
    "        'learning_rate': trial.suggest_float('learning_rate', 0.01, 0.3, log=True),\n",
    "        'max_depth': trial.suggest_int('max_depth', 3, 10),\n",
    "        'min_samples_split': trial.suggest_int('min_samples_split', 2, 20),\n",
    "        'min_samples_leaf': trial.suggest_int('min_samples_leaf', 1, 10),\n",
    "        'subsample': trial.suggest_float('subsample', 0.6, 1.0),\n",
    "        'max_features': trial.suggest_categorical('max_features', ['sqrt', 'log2', None]),\n",
    "        'random_state': SEMENTE_ALEATORIA\n",
    "    }\n",
    "    \n",
    "    modelo = GradientBoostingRegressor(**parametros)\n",
    "\n",
    "    score = cross_val_score(modelo, X_temp, y_temp, cv=NUM_FOLDS, \n",
    "                          scoring='neg_mean_absolute_error', n_jobs=1).mean() \n",
    "    return score"
   ]
  },
  {
   "cell_type": "markdown",
   "id": "003daa79-2b5d-48eb-ba57-12258a820c94",
   "metadata": {},
   "source": [
    "**Hiperparâmetros otimizados:**\n",
    "\n",
    "* n_estimators: Número de árvores no ensemble\n",
    "* learning_rate: Taxa de aprendizado (shrinkage)\n",
    "* max_depth: Profundidade máxima das árvores\n",
    "* min_samples_split: Número mínimo de amostras para dividir um nó\n",
    "* min_samples_leaf: Número mínimo de amostras em uma folha\n",
    "* subsample: Fração de amostras usadas para treinar cada árvore\n",
    "* max_features: Número de features consideradas para melhor split"
   ]
  },
  {
   "cell_type": "markdown",
   "id": "df83e3ac-703c-4183-b9df-33b74d83c1cb",
   "metadata": {},
   "source": [
    "### Otimização com Optuna"
   ]
  },
  {
   "cell_type": "code",
   "execution_count": 8,
   "id": "ca844a46-1eab-4c34-be1d-7288304827c2",
   "metadata": {},
   "outputs": [
    {
     "name": "stderr",
     "output_type": "stream",
     "text": [
      "[I 2025-10-30 17:05:51,509] A new study created in memory with name: no-name-6e406251-e488-4907-adde-4a061de6be9a\n",
      "[I 2025-10-30 17:05:53,352] Trial 0 finished with value: -0.16787206096524443 and parameters: {'n_estimators': 163, 'learning_rate': 0.011697393948759098, 'max_depth': 8, 'min_samples_split': 2, 'min_samples_leaf': 2, 'subsample': 0.8415462755795252, 'max_features': None}. Best is trial 0 with value: -0.16787206096524443.\n",
      "[I 2025-10-30 17:05:54,257] Trial 1 finished with value: -0.20910885950856947 and parameters: {'n_estimators': 238, 'learning_rate': 0.030959082863410346, 'max_depth': 5, 'min_samples_split': 5, 'min_samples_leaf': 4, 'subsample': 0.7924674675263101, 'max_features': 'log2'}. Best is trial 0 with value: -0.16787206096524443.\n",
      "[I 2025-10-30 17:05:55,750] Trial 2 finished with value: -0.17952755070584492 and parameters: {'n_estimators': 386, 'learning_rate': 0.03874436832528708, 'max_depth': 7, 'min_samples_split': 15, 'min_samples_leaf': 5, 'subsample': 0.7575632852991124, 'max_features': 'log2'}. Best is trial 0 with value: -0.16787206096524443.\n",
      "[I 2025-10-30 17:05:57,064] Trial 3 finished with value: -0.1778418058489143 and parameters: {'n_estimators': 313, 'learning_rate': 0.014052657803661158, 'max_depth': 8, 'min_samples_split': 3, 'min_samples_leaf': 2, 'subsample': 0.7291566119995221, 'max_features': 'log2'}. Best is trial 0 with value: -0.16787206096524443.\n",
      "[I 2025-10-30 17:05:58,337] Trial 4 finished with value: -0.14308188394769947 and parameters: {'n_estimators': 312, 'learning_rate': 0.19450804695852536, 'max_depth': 9, 'min_samples_split': 6, 'min_samples_leaf': 4, 'subsample': 0.8886002566626112, 'max_features': 'log2'}. Best is trial 4 with value: -0.14308188394769947.\n",
      "[I 2025-10-30 17:05:59,169] Trial 5 finished with value: -0.12365918828742484 and parameters: {'n_estimators': 177, 'learning_rate': 0.16615672204448517, 'max_depth': 9, 'min_samples_split': 4, 'min_samples_leaf': 3, 'subsample': 0.8100676585446254, 'max_features': 'sqrt'}. Best is trial 5 with value: -0.12365918828742484.\n",
      "[I 2025-10-30 17:05:59,820] Trial 6 finished with value: -0.34593731088053853 and parameters: {'n_estimators': 177, 'learning_rate': 0.02561150352358439, 'max_depth': 4, 'min_samples_split': 14, 'min_samples_leaf': 10, 'subsample': 0.8725285970728804, 'max_features': 'log2'}. Best is trial 5 with value: -0.12365918828742484.\n",
      "[I 2025-10-30 17:06:03,082] Trial 7 finished with value: -0.11173188137966943 and parameters: {'n_estimators': 424, 'learning_rate': 0.010965429029611236, 'max_depth': 4, 'min_samples_split': 7, 'min_samples_leaf': 4, 'subsample': 0.7917006785346782, 'max_features': None}. Best is trial 7 with value: -0.11173188137966943.\n",
      "[I 2025-10-30 17:06:04,052] Trial 8 finished with value: -0.14781028512347166 and parameters: {'n_estimators': 227, 'learning_rate': 0.07147668095438109, 'max_depth': 6, 'min_samples_split': 5, 'min_samples_leaf': 4, 'subsample': 0.8812090955465701, 'max_features': 'sqrt'}. Best is trial 7 with value: -0.11173188137966943.\n",
      "[I 2025-10-30 17:06:05,829] Trial 9 finished with value: -0.06600206931709265 and parameters: {'n_estimators': 134, 'learning_rate': 0.05763927984653901, 'max_depth': 9, 'min_samples_split': 2, 'min_samples_leaf': 2, 'subsample': 0.9318279433844086, 'max_features': None}. Best is trial 9 with value: -0.06600206931709265.\n",
      "[I 2025-10-30 17:06:06,781] Trial 10 finished with value: -0.12691403489194894 and parameters: {'n_estimators': 74, 'learning_rate': 0.08984307100197134, 'max_depth': 10, 'min_samples_split': 19, 'min_samples_leaf': 7, 'subsample': 0.9975555696165852, 'max_features': None}. Best is trial 9 with value: -0.06600206931709265.\n",
      "[I 2025-10-30 17:06:10,400] Trial 11 finished with value: -0.07241502968093362 and parameters: {'n_estimators': 492, 'learning_rate': 0.09173199544729077, 'max_depth': 4, 'min_samples_split': 9, 'min_samples_leaf': 1, 'subsample': 0.6462304490302215, 'max_features': None}. Best is trial 9 with value: -0.06600206931709265.\n",
      "[I 2025-10-30 17:06:13,463] Trial 12 finished with value: -0.08761336815155141 and parameters: {'n_estimators': 486, 'learning_rate': 0.09909733088524346, 'max_depth': 3, 'min_samples_split': 10, 'min_samples_leaf': 1, 'subsample': 0.6302637926983365, 'max_features': None}. Best is trial 9 with value: -0.06600206931709265.\n",
      "[I 2025-10-30 17:06:14,096] Trial 13 finished with value: -0.07655504757951807 and parameters: {'n_estimators': 68, 'learning_rate': 0.050552479661424086, 'max_depth': 6, 'min_samples_split': 9, 'min_samples_leaf': 1, 'subsample': 0.6098599656010968, 'max_features': None}. Best is trial 9 with value: -0.06600206931709265.\n",
      "[I 2025-10-30 17:06:17,956] Trial 14 finished with value: -0.1327538002398735 and parameters: {'n_estimators': 495, 'learning_rate': 0.12851650790869804, 'max_depth': 3, 'min_samples_split': 12, 'min_samples_leaf': 7, 'subsample': 0.965622262960694, 'max_features': None}. Best is trial 9 with value: -0.06600206931709265.\n",
      "[I 2025-10-30 17:06:22,416] Trial 15 finished with value: -0.06013057821200838 and parameters: {'n_estimators': 387, 'learning_rate': 0.06149671701502357, 'max_depth': 10, 'min_samples_split': 20, 'min_samples_leaf': 1, 'subsample': 0.6971568614255046, 'max_features': None}. Best is trial 15 with value: -0.06013057821200838.\n",
      "[I 2025-10-30 17:06:23,972] Trial 16 finished with value: -0.18676194958671935 and parameters: {'n_estimators': 367, 'learning_rate': 0.022232882101051652, 'max_depth': 10, 'min_samples_split': 20, 'min_samples_leaf': 6, 'subsample': 0.6944661949051628, 'max_features': 'sqrt'}. Best is trial 15 with value: -0.06013057821200838.\n",
      "[I 2025-10-30 17:06:25,400] Trial 17 finished with value: -0.15704174751109057 and parameters: {'n_estimators': 115, 'learning_rate': 0.28723284666814053, 'max_depth': 9, 'min_samples_split': 17, 'min_samples_leaf': 9, 'subsample': 0.927283853087258, 'max_features': None}. Best is trial 15 with value: -0.06013057821200838.\n",
      "[I 2025-10-30 17:06:28,732] Trial 18 finished with value: -0.07049312017898297 and parameters: {'n_estimators': 289, 'learning_rate': 0.051563546823109936, 'max_depth': 10, 'min_samples_split': 13, 'min_samples_leaf': 2, 'subsample': 0.7031747665848987, 'max_features': None}. Best is trial 15 with value: -0.06013057821200838.\n",
      "[I 2025-10-30 17:06:32,513] Trial 19 finished with value: -0.08711534670846331 and parameters: {'n_estimators': 372, 'learning_rate': 0.06233886708279695, 'max_depth': 8, 'min_samples_split': 17, 'min_samples_leaf': 3, 'subsample': 0.6781757978068409, 'max_features': None}. Best is trial 15 with value: -0.06013057821200838.\n",
      "[I 2025-10-30 17:06:34,364] Trial 20 finished with value: -0.1436396317945313 and parameters: {'n_estimators': 418, 'learning_rate': 0.017328068700674257, 'max_depth': 7, 'min_samples_split': 17, 'min_samples_leaf': 3, 'subsample': 0.9303895610613543, 'max_features': 'sqrt'}. Best is trial 15 with value: -0.06013057821200838.\n",
      "[I 2025-10-30 17:06:37,866] Trial 21 finished with value: -0.06992577789841414 and parameters: {'n_estimators': 297, 'learning_rate': 0.04126988633840938, 'max_depth': 10, 'min_samples_split': 13, 'min_samples_leaf': 2, 'subsample': 0.7310569131181336, 'max_features': None}. Best is trial 15 with value: -0.06013057821200838.\n",
      "[I 2025-10-30 17:06:40,738] Trial 22 finished with value: -0.0689633756348384 and parameters: {'n_estimators': 250, 'learning_rate': 0.04022385892977886, 'max_depth': 10, 'min_samples_split': 15, 'min_samples_leaf': 2, 'subsample': 0.7390837227455681, 'max_features': None}. Best is trial 15 with value: -0.06013057821200838.\n",
      "[I 2025-10-30 17:06:43,398] Trial 23 finished with value: -0.05578308419495609 and parameters: {'n_estimators': 241, 'learning_rate': 0.034381536785987356, 'max_depth': 9, 'min_samples_split': 19, 'min_samples_leaf': 1, 'subsample': 0.7570637515947031, 'max_features': None}. Best is trial 23 with value: -0.05578308419495609.\n",
      "[I 2025-10-30 17:06:44,813] Trial 24 finished with value: -0.0636115925854132 and parameters: {'n_estimators': 134, 'learning_rate': 0.029624260806137375, 'max_depth': 9, 'min_samples_split': 19, 'min_samples_leaf': 1, 'subsample': 0.8214732149186349, 'max_features': None}. Best is trial 23 with value: -0.05578308419495609.\n",
      "[I 2025-10-30 17:06:47,080] Trial 25 finished with value: -0.055229205123730196 and parameters: {'n_estimators': 209, 'learning_rate': 0.028216872431725958, 'max_depth': 8, 'min_samples_split': 19, 'min_samples_leaf': 1, 'subsample': 0.8270450217479085, 'max_features': None}. Best is trial 25 with value: -0.055229205123730196.\n",
      "[I 2025-10-30 17:06:49,305] Trial 26 finished with value: -0.05997643298457625 and parameters: {'n_estimators': 216, 'learning_rate': 0.020426731740603568, 'max_depth': 8, 'min_samples_split': 20, 'min_samples_leaf': 1, 'subsample': 0.7653519455685578, 'max_features': None}. Best is trial 25 with value: -0.055229205123730196.\n",
      "[I 2025-10-30 17:06:51,352] Trial 27 finished with value: -0.08788472114545405 and parameters: {'n_estimators': 210, 'learning_rate': 0.021921594009810124, 'max_depth': 7, 'min_samples_split': 18, 'min_samples_leaf': 3, 'subsample': 0.7723400221358123, 'max_features': None}. Best is trial 25 with value: -0.055229205123730196.\n",
      "[I 2025-10-30 17:06:52,614] Trial 28 finished with value: -0.13345525649712583 and parameters: {'n_estimators': 264, 'learning_rate': 0.01729525985912647, 'max_depth': 8, 'min_samples_split': 16, 'min_samples_leaf': 1, 'subsample': 0.8453046241112117, 'max_features': 'sqrt'}. Best is trial 25 with value: -0.055229205123730196.\n",
      "[I 2025-10-30 17:06:54,574] Trial 29 finished with value: -0.12930603146543093 and parameters: {'n_estimators': 196, 'learning_rate': 0.016792842301752615, 'max_depth': 8, 'min_samples_split': 19, 'min_samples_leaf': 5, 'subsample': 0.8294841054449702, 'max_features': None}. Best is trial 25 with value: -0.055229205123730196.\n",
      "[I 2025-10-30 17:06:56,409] Trial 30 finished with value: -0.17495712917467757 and parameters: {'n_estimators': 208, 'learning_rate': 0.01345682513436916, 'max_depth': 8, 'min_samples_split': 20, 'min_samples_leaf': 8, 'subsample': 0.7629806720522209, 'max_features': None}. Best is trial 25 with value: -0.055229205123730196.\n",
      "[I 2025-10-30 17:06:59,978] Trial 31 finished with value: -0.058273017590982856 and parameters: {'n_estimators': 340, 'learning_rate': 0.03256741172922301, 'max_depth': 9, 'min_samples_split': 20, 'min_samples_leaf': 1, 'subsample': 0.6659112823063135, 'max_features': None}. Best is trial 25 with value: -0.055229205123730196.\n",
      "[I 2025-10-30 17:07:03,513] Trial 32 finished with value: -0.05789934305096659 and parameters: {'n_estimators': 336, 'learning_rate': 0.034789493734784044, 'max_depth': 9, 'min_samples_split': 18, 'min_samples_leaf': 1, 'subsample': 0.6592411629248766, 'max_features': None}. Best is trial 25 with value: -0.055229205123730196.\n",
      "[I 2025-10-30 17:07:07,141] Trial 33 finished with value: -0.0703762257536162 and parameters: {'n_estimators': 342, 'learning_rate': 0.03230847971351039, 'max_depth': 9, 'min_samples_split': 18, 'min_samples_leaf': 2, 'subsample': 0.6675810890072191, 'max_features': None}. Best is trial 25 with value: -0.055229205123730196.\n",
      "[I 2025-10-30 17:07:08,520] Trial 34 finished with value: -0.1697915578343737 and parameters: {'n_estimators': 334, 'learning_rate': 0.03337565701443704, 'max_depth': 7, 'min_samples_split': 18, 'min_samples_leaf': 3, 'subsample': 0.6168587801628969, 'max_features': 'log2'}. Best is trial 25 with value: -0.055229205123730196.\n",
      "[I 2025-10-30 17:07:11,166] Trial 35 finished with value: -0.057898834085304406 and parameters: {'n_estimators': 248, 'learning_rate': 0.0460150828084866, 'max_depth': 9, 'min_samples_split': 16, 'min_samples_leaf': 1, 'subsample': 0.6542459618665167, 'max_features': None}. Best is trial 25 with value: -0.055229205123730196.\n",
      "[I 2025-10-30 17:07:12,230] Trial 36 finished with value: -0.1700680579210456 and parameters: {'n_estimators': 265, 'learning_rate': 0.02629531418155899, 'max_depth': 8, 'min_samples_split': 15, 'min_samples_leaf': 2, 'subsample': 0.6006264877008652, 'max_features': 'log2'}. Best is trial 25 with value: -0.055229205123730196.\n",
      "[I 2025-10-30 17:07:14,692] Trial 37 finished with value: -0.07127247812914501 and parameters: {'n_estimators': 243, 'learning_rate': 0.04254487142867214, 'max_depth': 9, 'min_samples_split': 16, 'min_samples_leaf': 2, 'subsample': 0.6420779205278354, 'max_features': None}. Best is trial 25 with value: -0.055229205123730196.\n",
      "[I 2025-10-30 17:07:15,858] Trial 38 finished with value: -0.20574979971689647 and parameters: {'n_estimators': 282, 'learning_rate': 0.025979695470479965, 'max_depth': 9, 'min_samples_split': 16, 'min_samples_leaf': 5, 'subsample': 0.7889441233423535, 'max_features': 'log2'}. Best is trial 25 with value: -0.055229205123730196.\n",
      "[I 2025-10-30 17:07:16,827] Trial 39 finished with value: -0.09103487146450573 and parameters: {'n_estimators': 156, 'learning_rate': 0.046685382381171085, 'max_depth': 6, 'min_samples_split': 18, 'min_samples_leaf': 3, 'subsample': 0.7270335614330647, 'max_features': None}. Best is trial 25 with value: -0.055229205123730196.\n",
      "[I 2025-10-30 17:07:17,749] Trial 40 finished with value: -0.13098104023421261 and parameters: {'n_estimators': 317, 'learning_rate': 0.07714716229951948, 'max_depth': 8, 'min_samples_split': 15, 'min_samples_leaf': 4, 'subsample': 0.8495992382972393, 'max_features': 'sqrt'}. Best is trial 25 with value: -0.055229205123730196.\n",
      "[I 2025-10-30 17:07:20,145] Trial 41 finished with value: -0.0587269895021926 and parameters: {'n_estimators': 343, 'learning_rate': 0.03335888527506132, 'max_depth': 9, 'min_samples_split': 19, 'min_samples_leaf': 1, 'subsample': 0.6573733027962512, 'max_features': None}. Best is trial 25 with value: -0.055229205123730196.\n",
      "[I 2025-10-30 17:07:22,499] Trial 42 finished with value: -0.055950796273608105 and parameters: {'n_estimators': 238, 'learning_rate': 0.03418611384834055, 'max_depth': 9, 'min_samples_split': 17, 'min_samples_leaf': 1, 'subsample': 0.6803039070825354, 'max_features': None}. Best is trial 25 with value: -0.055229205123730196.\n",
      "[I 2025-10-30 17:07:24,491] Trial 43 finished with value: -0.06896956326420933 and parameters: {'n_estimators': 183, 'learning_rate': 0.039770920441134755, 'max_depth': 9, 'min_samples_split': 17, 'min_samples_leaf': 2, 'subsample': 0.7092702511597514, 'max_features': None}. Best is trial 25 with value: -0.055229205123730196.\n",
      "[I 2025-10-30 17:07:27,058] Trial 44 finished with value: -0.05654281606147199 and parameters: {'n_estimators': 233, 'learning_rate': 0.029704095451233824, 'max_depth': 10, 'min_samples_split': 14, 'min_samples_leaf': 1, 'subsample': 0.6771864482451505, 'max_features': None}. Best is trial 25 with value: -0.055229205123730196.\n",
      "[I 2025-10-30 17:07:29,755] Trial 45 finished with value: -0.06486182684435242 and parameters: {'n_estimators': 225, 'learning_rate': 0.02808042404384309, 'max_depth': 10, 'min_samples_split': 14, 'min_samples_leaf': 2, 'subsample': 0.8029024039902409, 'max_features': None}. Best is trial 25 with value: -0.055229205123730196.\n",
      "[I 2025-10-30 17:07:30,859] Trial 46 finished with value: -0.13693132128872107 and parameters: {'n_estimators': 240, 'learning_rate': 0.022464174139246534, 'max_depth': 10, 'min_samples_split': 14, 'min_samples_leaf': 1, 'subsample': 0.6823443281833782, 'max_features': 'log2'}. Best is trial 25 with value: -0.055229205123730196.\n",
      "[I 2025-10-30 17:07:32,765] Trial 47 finished with value: -0.06910400800268247 and parameters: {'n_estimators': 159, 'learning_rate': 0.04785108501502474, 'max_depth': 10, 'min_samples_split': 11, 'min_samples_leaf': 2, 'subsample': 0.7430335173714788, 'max_features': None}. Best is trial 25 with value: -0.055229205123730196.\n",
      "[I 2025-10-30 17:07:34,865] Trial 48 finished with value: -0.11458383379924304 and parameters: {'n_estimators': 262, 'learning_rate': 0.07034254940579902, 'max_depth': 5, 'min_samples_split': 16, 'min_samples_leaf': 4, 'subsample': 0.6354315186763417, 'max_features': None}. Best is trial 25 with value: -0.055229205123730196.\n",
      "[I 2025-10-30 17:07:36,889] Trial 49 finished with value: -0.10170784834907244 and parameters: {'n_estimators': 191, 'learning_rate': 0.01398044809724408, 'max_depth': 9, 'min_samples_split': 13, 'min_samples_leaf': 1, 'subsample': 0.7132749459051563, 'max_features': None}. Best is trial 25 with value: -0.055229205123730196.\n",
      "[I 2025-10-30 17:07:39,448] Trial 50 finished with value: -0.06070556557784331 and parameters: {'n_estimators': 234, 'learning_rate': 0.01974623757120191, 'max_depth': 7, 'min_samples_split': 14, 'min_samples_leaf': 1, 'subsample': 0.8988604576159022, 'max_features': None}. Best is trial 25 with value: -0.055229205123730196.\n",
      "[I 2025-10-30 17:07:42,661] Trial 51 finished with value: -0.05737226204321642 and parameters: {'n_estimators': 306, 'learning_rate': 0.03536452013638107, 'max_depth': 9, 'min_samples_split': 18, 'min_samples_leaf': 1, 'subsample': 0.6496245533910979, 'max_features': None}. Best is trial 25 with value: -0.055229205123730196.\n",
      "[I 2025-10-30 17:07:45,769] Trial 52 finished with value: -0.058360796154920104 and parameters: {'n_estimators': 303, 'learning_rate': 0.03591994265243549, 'max_depth': 9, 'min_samples_split': 17, 'min_samples_leaf': 1, 'subsample': 0.6251969890584212, 'max_features': None}. Best is trial 25 with value: -0.055229205123730196.\n",
      "[I 2025-10-30 17:07:48,490] Trial 53 finished with value: -0.06958329337979534 and parameters: {'n_estimators': 276, 'learning_rate': 0.024618434056823305, 'max_depth': 8, 'min_samples_split': 19, 'min_samples_leaf': 2, 'subsample': 0.6819595774739826, 'max_features': None}. Best is trial 25 with value: -0.055229205123730196.\n",
      "[I 2025-10-30 17:07:51,446] Trial 54 finished with value: -0.05744472639217271 and parameters: {'n_estimators': 252, 'learning_rate': 0.057437257788798914, 'max_depth': 10, 'min_samples_split': 16, 'min_samples_leaf': 1, 'subsample': 0.7154070277208391, 'max_features': None}. Best is trial 25 with value: -0.055229205123730196.\n",
      "[I 2025-10-30 17:07:52,293] Trial 55 finished with value: -0.14537518186625342 and parameters: {'n_estimators': 173, 'learning_rate': 0.02965262134078141, 'max_depth': 10, 'min_samples_split': 19, 'min_samples_leaf': 2, 'subsample': 0.71777834705144, 'max_features': 'sqrt'}. Best is trial 25 with value: -0.055229205123730196.\n",
      "[I 2025-10-30 17:07:54,356] Trial 56 finished with value: -0.1524881617655426 and parameters: {'n_estimators': 200, 'learning_rate': 0.05749297932516858, 'max_depth': 10, 'min_samples_split': 15, 'min_samples_leaf': 10, 'subsample': 0.7829221548302783, 'max_features': None}. Best is trial 25 with value: -0.055229205123730196.\n",
      "[I 2025-10-30 17:07:56,871] Trial 57 finished with value: -0.055271658487923446 and parameters: {'n_estimators': 217, 'learning_rate': 0.037296004309709564, 'max_depth': 10, 'min_samples_split': 17, 'min_samples_leaf': 1, 'subsample': 0.7493697782375768, 'max_features': None}. Best is trial 25 with value: -0.055229205123730196.\n",
      "[I 2025-10-30 17:07:59,454] Trial 58 finished with value: -0.06829847714177334 and parameters: {'n_estimators': 223, 'learning_rate': 0.03727410919429557, 'max_depth': 10, 'min_samples_split': 17, 'min_samples_leaf': 2, 'subsample': 0.7514568158774526, 'max_features': None}. Best is trial 25 with value: -0.055229205123730196.\n",
      "[I 2025-10-30 17:08:02,877] Trial 59 finished with value: -0.056641879535292074 and parameters: {'n_estimators': 288, 'learning_rate': 0.02403347484833456, 'max_depth': 10, 'min_samples_split': 12, 'min_samples_leaf': 1, 'subsample': 0.8124585459024275, 'max_features': None}. Best is trial 25 with value: -0.055229205123730196.\n",
      "[I 2025-10-30 17:08:04,667] Trial 60 finished with value: -0.09194236258011527 and parameters: {'n_estimators': 150, 'learning_rate': 0.0238989635985497, 'max_depth': 10, 'min_samples_split': 11, 'min_samples_leaf': 3, 'subsample': 0.8622255562587794, 'max_features': None}. Best is trial 25 with value: -0.055229205123730196.\n",
      "[I 2025-10-30 17:08:08,314] Trial 61 finished with value: -0.056854503147561485 and parameters: {'n_estimators': 308, 'learning_rate': 0.02976373694443591, 'max_depth': 10, 'min_samples_split': 12, 'min_samples_leaf': 1, 'subsample': 0.8294618655592356, 'max_features': None}. Best is trial 25 with value: -0.055229205123730196.\n",
      "[I 2025-10-30 17:08:11,663] Trial 62 finished with value: -0.0571212034828844 and parameters: {'n_estimators': 287, 'learning_rate': 0.019183764484132466, 'max_depth': 10, 'min_samples_split': 10, 'min_samples_leaf': 1, 'subsample': 0.8137587173766185, 'max_features': None}. Best is trial 25 with value: -0.055229205123730196.\n",
      "[I 2025-10-30 17:08:14,707] Trial 63 finished with value: -0.12074529595099102 and parameters: {'n_estimators': 269, 'learning_rate': 0.029197768585984513, 'max_depth': 10, 'min_samples_split': 12, 'min_samples_leaf': 6, 'subsample': 0.8290627039093036, 'max_features': None}. Best is trial 25 with value: -0.055229205123730196.\n",
      "[I 2025-10-30 17:08:18,543] Trial 64 finished with value: -0.05628656379544261 and parameters: {'n_estimators': 322, 'learning_rate': 0.028771595231998258, 'max_depth': 10, 'min_samples_split': 7, 'min_samples_leaf': 1, 'subsample': 0.7779509465158563, 'max_features': None}. Best is trial 25 with value: -0.055229205123730196.\n",
      "[I 2025-10-30 17:08:21,050] Trial 65 finished with value: -0.0800000575307151 and parameters: {'n_estimators': 215, 'learning_rate': 0.015772265072519685, 'max_depth': 10, 'min_samples_split': 7, 'min_samples_leaf': 2, 'subsample': 0.7787555770154999, 'max_features': None}. Best is trial 25 with value: -0.055229205123730196.\n",
      "[I 2025-10-30 17:08:22,910] Trial 66 finished with value: -0.09775093432312632 and parameters: {'n_estimators': 323, 'learning_rate': 0.026167472627229387, 'max_depth': 9, 'min_samples_split': 2, 'min_samples_leaf': 1, 'subsample': 0.797309057437502, 'max_features': 'sqrt'}. Best is trial 25 with value: -0.055229205123730196.\n",
      "[I 2025-10-30 17:08:25,240] Trial 67 finished with value: -0.14914128853304298 and parameters: {'n_estimators': 231, 'learning_rate': 0.04287189910383144, 'max_depth': 10, 'min_samples_split': 5, 'min_samples_leaf': 9, 'subsample': 0.7537930097191469, 'max_features': None}. Best is trial 25 with value: -0.055229205123730196.\n",
      "[I 2025-10-30 17:08:25,777] Trial 68 finished with value: -0.23303939836073292 and parameters: {'n_estimators': 100, 'learning_rate': 0.021333146892776336, 'max_depth': 9, 'min_samples_split': 9, 'min_samples_leaf': 1, 'subsample': 0.8093076605560637, 'max_features': 'log2'}. Best is trial 25 with value: -0.055229205123730196.\n",
      "[I 2025-10-30 17:08:28,956] Trial 69 finished with value: -0.07375253142389403 and parameters: {'n_estimators': 365, 'learning_rate': 0.011727581528932733, 'max_depth': 5, 'min_samples_split': 4, 'min_samples_leaf': 2, 'subsample': 0.7688969400570428, 'max_features': None}. Best is trial 25 with value: -0.055229205123730196.\n",
      "[I 2025-10-30 17:08:32,892] Trial 70 finished with value: -0.055623322551788625 and parameters: {'n_estimators': 292, 'learning_rate': 0.051629315444422175, 'max_depth': 10, 'min_samples_split': 8, 'min_samples_leaf': 1, 'subsample': 0.8596635336600609, 'max_features': None}. Best is trial 25 with value: -0.055229205123730196.\n",
      "[I 2025-10-30 17:08:36,324] Trial 71 finished with value: -0.05315650361318202 and parameters: {'n_estimators': 255, 'learning_rate': 0.05111236590970762, 'max_depth': 10, 'min_samples_split': 7, 'min_samples_leaf': 1, 'subsample': 0.8908542690969752, 'max_features': None}. Best is trial 71 with value: -0.05315650361318202.\n",
      "[I 2025-10-30 17:08:39,786] Trial 72 finished with value: -0.05384337983947235 and parameters: {'n_estimators': 255, 'learning_rate': 0.05252359311983157, 'max_depth': 10, 'min_samples_split': 7, 'min_samples_leaf': 1, 'subsample': 0.8986305417792347, 'max_features': None}. Best is trial 71 with value: -0.05315650361318202.\n",
      "[I 2025-10-30 17:08:43,418] Trial 73 finished with value: -0.0675093066039902 and parameters: {'n_estimators': 256, 'learning_rate': 0.051910181658089, 'max_depth': 10, 'min_samples_split': 7, 'min_samples_leaf': 2, 'subsample': 0.8997998809135073, 'max_features': None}. Best is trial 71 with value: -0.05315650361318202.\n",
      "[I 2025-10-30 17:08:46,135] Trial 74 finished with value: -0.0545301371227791 and parameters: {'n_estimators': 204, 'learning_rate': 0.06328780286872268, 'max_depth': 9, 'min_samples_split': 8, 'min_samples_leaf': 1, 'subsample': 0.9159298809179499, 'max_features': None}. Best is trial 71 with value: -0.05315650361318202.\n",
      "[I 2025-10-30 17:08:48,909] Trial 75 finished with value: -0.05427586416807397 and parameters: {'n_estimators': 205, 'learning_rate': 0.07102954777661458, 'max_depth': 9, 'min_samples_split': 8, 'min_samples_leaf': 1, 'subsample': 0.9213290208187044, 'max_features': None}. Best is trial 71 with value: -0.05315650361318202.\n",
      "[I 2025-10-30 17:08:51,832] Trial 76 finished with value: -0.06865747403101762 and parameters: {'n_estimators': 206, 'learning_rate': 0.08114644071998413, 'max_depth': 9, 'min_samples_split': 8, 'min_samples_leaf': 2, 'subsample': 0.9588118187448135, 'max_features': None}. Best is trial 71 with value: -0.05315650361318202.\n",
      "[I 2025-10-30 17:08:54,252] Trial 77 finished with value: -0.05427453213618258 and parameters: {'n_estimators': 185, 'learning_rate': 0.11126494981792989, 'max_depth': 8, 'min_samples_split': 6, 'min_samples_leaf': 1, 'subsample': 0.9177400709027077, 'max_features': None}. Best is trial 71 with value: -0.05315650361318202.\n",
      "[I 2025-10-30 17:08:56,369] Trial 78 finished with value: -0.05730372857276562 and parameters: {'n_estimators': 176, 'learning_rate': 0.11198019404496963, 'max_depth': 7, 'min_samples_split': 6, 'min_samples_leaf': 1, 'subsample': 0.8836097008000039, 'max_features': None}. Best is trial 71 with value: -0.05315650361318202.\n",
      "[I 2025-10-30 17:08:57,079] Trial 79 finished with value: -0.1354003722292815 and parameters: {'n_estimators': 138, 'learning_rate': 0.1502930002804201, 'max_depth': 8, 'min_samples_split': 8, 'min_samples_leaf': 3, 'subsample': 0.9169211902725504, 'max_features': 'sqrt'}. Best is trial 71 with value: -0.05315650361318202.\n",
      "[I 2025-10-30 17:08:59,173] Trial 80 finished with value: -0.05415357250387861 and parameters: {'n_estimators': 168, 'learning_rate': 0.06338001893221602, 'max_depth': 8, 'min_samples_split': 6, 'min_samples_leaf': 1, 'subsample': 0.9463961752933002, 'max_features': None}. Best is trial 71 with value: -0.05315650361318202.\n",
      "[I 2025-10-30 17:09:01,507] Trial 81 finished with value: -0.05261395180734235 and parameters: {'n_estimators': 186, 'learning_rate': 0.06610765724739719, 'max_depth': 8, 'min_samples_split': 6, 'min_samples_leaf': 1, 'subsample': 0.9483637442461836, 'max_features': None}. Best is trial 81 with value: -0.05261395180734235.\n",
      "[I 2025-10-30 17:09:03,910] Trial 82 finished with value: -0.05361250795293324 and parameters: {'n_estimators': 189, 'learning_rate': 0.06647144775642287, 'max_depth': 8, 'min_samples_split': 6, 'min_samples_leaf': 1, 'subsample': 0.950266642594194, 'max_features': None}. Best is trial 81 with value: -0.05261395180734235.\n",
      "[I 2025-10-30 17:09:06,295] Trial 83 finished with value: -0.05337953997372533 and parameters: {'n_estimators': 187, 'learning_rate': 0.06683491571990612, 'max_depth': 8, 'min_samples_split': 6, 'min_samples_leaf': 1, 'subsample': 0.9542450133378496, 'max_features': None}. Best is trial 81 with value: -0.05261395180734235.\n",
      "[I 2025-10-30 17:09:08,516] Trial 84 finished with value: -0.06784052083892544 and parameters: {'n_estimators': 167, 'learning_rate': 0.06716212262148859, 'max_depth': 8, 'min_samples_split': 6, 'min_samples_leaf': 2, 'subsample': 0.9531291304076035, 'max_features': None}. Best is trial 81 with value: -0.05261395180734235.\n",
      "[I 2025-10-30 17:09:10,917] Trial 85 finished with value: -0.05519982023829073 and parameters: {'n_estimators': 188, 'learning_rate': 0.09386632285103769, 'max_depth': 7, 'min_samples_split': 6, 'min_samples_leaf': 1, 'subsample': 0.9855526619333445, 'max_features': None}. Best is trial 81 with value: -0.05261395180734235.\n",
      "[I 2025-10-30 17:09:11,619] Trial 86 finished with value: -0.1313340758709537 and parameters: {'n_estimators': 143, 'learning_rate': 0.0650796910207486, 'max_depth': 8, 'min_samples_split': 5, 'min_samples_leaf': 2, 'subsample': 0.9426722471421426, 'max_features': 'log2'}. Best is trial 81 with value: -0.05261395180734235.\n",
      "[I 2025-10-30 17:09:13,154] Trial 87 finished with value: -0.048653071089658086 and parameters: {'n_estimators': 126, 'learning_rate': 0.08397059036581073, 'max_depth': 8, 'min_samples_split': 4, 'min_samples_leaf': 1, 'subsample': 0.9760429210816258, 'max_features': None}. Best is trial 87 with value: -0.048653071089658086.\n",
      "[I 2025-10-30 17:09:15,274] Trial 88 finished with value: -0.04828364742011005 and parameters: {'n_estimators': 162, 'learning_rate': 0.10315306104884032, 'max_depth': 8, 'min_samples_split': 4, 'min_samples_leaf': 1, 'subsample': 0.9794348926286661, 'max_features': None}. Best is trial 88 with value: -0.04828364742011005.\n",
      "[I 2025-10-30 17:09:16,907] Trial 89 finished with value: -0.06684470550982596 and parameters: {'n_estimators': 116, 'learning_rate': 0.11241816237177751, 'max_depth': 8, 'min_samples_split': 4, 'min_samples_leaf': 2, 'subsample': 0.9771258170868331, 'max_features': None}. Best is trial 88 with value: -0.04828364742011005.\n",
      "[I 2025-10-30 17:09:18,342] Trial 90 finished with value: -0.05434445706850549 and parameters: {'n_estimators': 125, 'learning_rate': 0.07874745654449017, 'max_depth': 6, 'min_samples_split': 3, 'min_samples_leaf': 1, 'subsample': 0.9372475782463052, 'max_features': None}. Best is trial 88 with value: -0.04828364742011005.\n",
      "[I 2025-10-30 17:09:20,481] Trial 91 finished with value: -0.05451877782465766 and parameters: {'n_estimators': 164, 'learning_rate': 0.08611506461115609, 'max_depth': 8, 'min_samples_split': 6, 'min_samples_leaf': 1, 'subsample': 0.9881946732568735, 'max_features': None}. Best is trial 88 with value: -0.04828364742011005.\n",
      "[I 2025-10-30 17:09:21,753] Trial 92 finished with value: -0.05529186638926831 and parameters: {'n_estimators': 101, 'learning_rate': 0.10490300942648938, 'max_depth': 7, 'min_samples_split': 5, 'min_samples_leaf': 1, 'subsample': 0.9997497167267292, 'max_features': None}. Best is trial 88 with value: -0.04828364742011005.\n",
      "[I 2025-10-30 17:09:23,914] Trial 93 finished with value: -0.048184641362396335 and parameters: {'n_estimators': 178, 'learning_rate': 0.0739876638153737, 'max_depth': 8, 'min_samples_split': 3, 'min_samples_leaf': 1, 'subsample': 0.9704763714298733, 'max_features': None}. Best is trial 93 with value: -0.048184641362396335.\n",
      "[I 2025-10-30 17:09:26,114] Trial 94 finished with value: -0.04723699180002904 and parameters: {'n_estimators': 181, 'learning_rate': 0.08561161051441264, 'max_depth': 8, 'min_samples_split': 4, 'min_samples_leaf': 1, 'subsample': 0.9700945640030982, 'max_features': None}. Best is trial 94 with value: -0.04723699180002904.\n",
      "[I 2025-10-30 17:09:27,998] Trial 95 finished with value: -0.12678646045267813 and parameters: {'n_estimators': 149, 'learning_rate': 0.074977586093661, 'max_depth': 8, 'min_samples_split': 3, 'min_samples_leaf': 7, 'subsample': 0.9700237735612275, 'max_features': None}. Best is trial 94 with value: -0.04723699180002904.\n",
      "[I 2025-10-30 17:09:29,168] Trial 96 finished with value: -0.06689857179894937 and parameters: {'n_estimators': 86, 'learning_rate': 0.08430103691683466, 'max_depth': 8, 'min_samples_split': 4, 'min_samples_leaf': 2, 'subsample': 0.9500878516499086, 'max_features': None}. Best is trial 94 with value: -0.04723699180002904.\n",
      "[I 2025-10-30 17:09:30,762] Trial 97 finished with value: -0.04851237531030427 and parameters: {'n_estimators': 130, 'learning_rate': 0.09608600630943258, 'max_depth': 7, 'min_samples_split': 2, 'min_samples_leaf': 1, 'subsample': 0.9664549745730192, 'max_features': None}. Best is trial 94 with value: -0.04723699180002904.\n",
      "[I 2025-10-30 17:09:32,413] Trial 98 finished with value: -0.04790911078739479 and parameters: {'n_estimators': 133, 'learning_rate': 0.12536741223303713, 'max_depth': 7, 'min_samples_split': 2, 'min_samples_leaf': 1, 'subsample': 0.9769702323443179, 'max_features': None}. Best is trial 94 with value: -0.04723699180002904.\n",
      "[I 2025-10-30 17:09:34,346] Trial 99 finished with value: -0.07006714672155727 and parameters: {'n_estimators': 130, 'learning_rate': 0.12842365127218996, 'max_depth': 7, 'min_samples_split': 2, 'min_samples_leaf': 2, 'subsample': 0.9650348931044439, 'max_features': None}. Best is trial 94 with value: -0.04723699180002904.\n"
     ]
    },
    {
     "name": "stdout",
     "output_type": "stream",
     "text": [
      "\n",
      "Melhores hiperparâmetros:\n",
      "{'n_estimators': 181, 'learning_rate': 0.08561161051441264, 'max_depth': 8, 'min_samples_split': 4, 'min_samples_leaf': 1, 'subsample': 0.9700945640030982, 'max_features': None}\n",
      "Melhor MAE negativo: -0.0472\n"
     ]
    }
   ],
   "source": [
    "study = optuna.create_study(\n",
    "    direction='maximize',\n",
    "    sampler=optuna.samplers.TPESampler(seed=SEMENTE_ALEATORIA)\n",
    ")\n",
    "study.optimize(objetivo_gradient_boosting, n_trials=NUM_TRIALS)\n",
    "\n",
    "print(\"\\nMelhores hiperparâmetros:\")\n",
    "print(study.best_params)\n",
    "print(f\"Melhor MAE negativo: {study.best_value:.4f}\")"
   ]
  },
  {
   "cell_type": "markdown",
   "id": "58c30ded-d2f1-4db3-8fff-cb4fb789b81f",
   "metadata": {},
   "source": [
    "### Treinamento do Modelo Final com os Melhores Hiperparâmetros"
   ]
  },
  {
   "cell_type": "code",
   "execution_count": 9,
   "id": "dae67922-55a3-4cad-89ea-a8c3122aac9c",
   "metadata": {},
   "outputs": [],
   "source": [
    "best_params = study.best_params\n",
    "modelo_final = GradientBoostingRegressor(**best_params)\n",
    "modelo_final.fit(X_treino_, y_treino_)\n",
    "y_val_pred = modelo_final.predict(X_val)"
   ]
  },
  {
   "cell_type": "markdown",
   "id": "5a95de04-e5c4-44c7-bb2c-34dc6eb25c92",
   "metadata": {},
   "source": [
    "### Avaliação do Modelo"
   ]
  },
  {
   "cell_type": "code",
   "execution_count": 10,
   "id": "04ba64ac-06b1-42ab-aa72-706ba375b00b",
   "metadata": {},
   "outputs": [
    {
     "name": "stdout",
     "output_type": "stream",
     "text": [
      "Desempenho na validação\n",
      "MSE: 0.0183\n",
      "MAE: 0.0315\n",
      "RMSE: 0.1354\n"
     ]
    }
   ],
   "source": [
    "mse_val = mean_squared_error(y_val, y_val_pred)\n",
    "mae_val = mean_absolute_error(y_val, y_val_pred)\n",
    "\n",
    "print(\"Desempenho na validação\")\n",
    "print(f\"MSE: {mse_val:.4f}\")\n",
    "print(f\"MAE: {mae_val:.4f}\")\n",
    "print(f\"RMSE: {np.sqrt(mse_val):.4f}\")"
   ]
  },
  {
   "cell_type": "markdown",
   "id": "357569e6-dfe0-49c5-ae6b-cb8ee40931eb",
   "metadata": {},
   "source": [
    "### Previsões no teste"
   ]
  },
  {
   "cell_type": "code",
   "execution_count": 11,
   "id": "a337633e-0bbf-4aca-8b87-68ed6eac240a",
   "metadata": {},
   "outputs": [
    {
     "name": "stdout",
     "output_type": "stream",
     "text": [
      "Desempenho no conjunto de teste\n",
      "MSE: 0.0495\n",
      "MAE: 0.0656\n",
      "RMSE: 0.2226\n"
     ]
    }
   ],
   "source": [
    "y_teste_pred = modelo_final.predict(X_teste)\n",
    "\n",
    "print(\"Desempenho no conjunto de teste\")\n",
    "print(f\"MSE: {mean_squared_error(y_teste, y_teste_pred):.4f}\")\n",
    "print(f\"MAE: {mean_absolute_error(y_teste, y_teste_pred):.4f}\")\n",
    "print(f\"RMSE: {np.sqrt(mean_squared_error(y_teste, y_teste_pred)):.4f}\")"
   ]
  },
  {
   "cell_type": "markdown",
   "id": "a58985f0-f04c-421d-9985-fc2a85ecc5f7",
   "metadata": {},
   "source": [
    "**Métricas usadas:**\n",
    "\n",
    "* MSE (Mean Squared Error): Penaliza mais erros grandes\n",
    "* MAE (Mean Absolute Error): Interpretação mais direta\n",
    "* RMSE (Root Mean Squared Error): Na mesma unidade do target"
   ]
  },
  {
   "cell_type": "markdown",
   "id": "e919024a-5b69-4cb5-ab52-e37c142e142c",
   "metadata": {},
   "source": [
    "### Gráfico de dispersão: Valores Reais vs Preditos"
   ]
  },
  {
   "cell_type": "code",
   "execution_count": 12,
   "id": "5043c17c-2663-4d94-977f-cf45f9425697",
   "metadata": {},
   "outputs": [
    {
     "data": {
      "text/plain": [
       "<matplotlib.legend.Legend at 0x21ed36ae900>"
      ]
     },
     "execution_count": 12,
     "metadata": {},
     "output_type": "execute_result"
    },
    {
     "data": {
      "image/png": "[encoded data removed]",
      "text/plain": [
       "<Figure size 640x480 with 1 Axes>"
      ]
     },
     "metadata": {},
     "output_type": "display_data"
    }
   ],
   "source": [
    "# definindo os valores máximos e mínimos dos eixos do gráfico\n",
    "min_val = min(y_teste.min(), y_teste_pred.min())\n",
    "max_val = max(y_teste.max(), y_teste_pred.max())\n",
    "intervalo = [min_val * 0.95, max_val * 1.05]\n",
    " \n",
    "# plotando o gráfico\n",
    "eixo = sns.scatterplot(x=y_teste, y=y_teste_pred, label=\"Dados\", color=\"#9370db\")\n",
    "eixo.plot(intervalo, intervalo, \"--\", label=\"Identidade\", color=\"brown\")\n",
    "eixo.set(\n",
    "    xlabel=\"$y$ verdadeiro\",\n",
    "    ylabel=\"$y$ previsto\",\n",
    "    xlim=intervalo,\n",
    "    ylim=intervalo,\n",
    "    aspect=\"equal\",\n",
    ")\n",
    "eixo.legend()"
   ]
  },
  {
   "cell_type": "markdown",
   "id": "4f49eef8-e0bf-4f2f-8708-6868b34531aa",
   "metadata": {},
   "source": [
    "**Interpretação**"
   ]
  },
  {
   "cell_type": "code",
   "execution_count": 13,
   "id": "edd730e4-f89b-48eb-b7ce-3026f1240dcb",
   "metadata": {},
   "outputs": [
    {
     "name": "stdout",
     "output_type": "stream",
     "text": [
      "Resumo\n",
      "Melhores hiperparâmetros: {'n_estimators': 181, 'learning_rate': 0.08561161051441264, 'max_depth': 8, 'min_samples_split': 4, 'min_samples_leaf': 1, 'subsample': 0.9700945640030982, 'max_features': None}\n",
      "MSE no teste: 0.0495\n",
      "MAE no teste: 0.0656\n",
      "RMSE no teste: 0.2226\n",
      "Número de features: 130\n"
     ]
    }
   ],
   "source": [
    "print(\"Resumo\")\n",
    "print(f\"Melhores hiperparâmetros: {study.best_params}\")\n",
    "print(f\"MSE no teste: {mean_squared_error(y_teste, y_teste_pred):.4f}\")\n",
    "print(f\"MAE no teste: {mean_absolute_error(y_teste, y_teste_pred):.4f}\")\n",
    "print(f\"RMSE no teste: {np.sqrt(mean_squared_error(y_teste, y_teste_pred)):.4f}\")\n",
    "print(f\"Número de features: {X_treino_.shape[1]}\")"
   ]
  },
  {
   "cell_type": "markdown",
   "id": "5cd4d1e6-87cc-4d04-81c4-f35888c362ef",
   "metadata": {},
   "source": [
    "### Importância das Features"
   ]
  },
  {
   "cell_type": "code",
   "execution_count": 14,
   "id": "73970a32-f77d-46fe-8c1e-d32831526a2e",
   "metadata": {},
   "outputs": [
    {
     "name": "stdout",
     "output_type": "stream",
     "text": [
      "\n",
      "Top 10 features mais importantes:\n",
      "                          feature  importance\n",
      "4                  Addicted_Score    0.837028\n",
      "3     Conflicts_Over_Social_Media    0.074657\n",
      "65               Country_Maldives    0.021760\n",
      "117  Most_Used_Platform_KakaoTalk    0.009108\n",
      "79               Country_Pakistan    0.008340\n",
      "72                  Country_Nepal    0.008261\n",
      "50                  Country_Italy    0.008119\n",
      "16             Country_Bangladesh    0.007666\n",
      "2           Sleep_Hours_Per_Night    0.005171\n",
      "95            Country_South Korea    0.004815\n"
     ]
    }
   ],
   "source": [
    "importancias = modelo_final.feature_importances_\n",
    "\n",
    "feature_names = (['Age', 'Avg_Daily_Usage_Hours', 'Sleep_Hours_Per_Night', \n",
    "                  'Conflicts_Over_Social_Media', 'Addicted_Score'] + \n",
    "                 list(encoder.get_feature_names_out(['Academic_Level', 'Country', \n",
    "                                                   'Most_Used_Platform',\n",
    "                                                   'Affects_Academic_Performance',\n",
    "                                                   'Relationship_Status'])))\n",
    "df_importancias = pd.DataFrame({\n",
    "    'feature': feature_names,\n",
    "    'importance': importancias\n",
    "}).sort_values('importance', ascending=False)\n",
    "\n",
    "print(\"\\nTop 10 features mais importantes:\")\n",
    "print(df_importancias.head(10))"
   ]
  },
  {
   "cell_type": "markdown",
   "id": "16d28329-c5f5-436a-8c6a-1b5e2880f969",
   "metadata": {},
   "source": [
    "### Plotar as 15 features mais importantes"
   ]
  },
  {
   "cell_type": "code",
   "execution_count": 15,
   "id": "ddbed796-3a98-49b6-a4dd-df9be2642226",
   "metadata": {},
   "outputs": [
    {
     "data": {
      "image/png": "[encoded data removed]",
      "text/plain": [
       "<Figure size 1200x800 with 1 Axes>"
      ]
     },
     "metadata": {},
     "output_type": "display_data"
    }
   ],
   "source": [
    "plt.figure(figsize=(12, 8))\n",
    "sns.barplot(data=df_importancias.head(15), x='importance', y='feature', color=\"#9370db\")\n",
    "plt.title('Top 15 Features Mais Importantes - Gradient Boosting')\n",
    "plt.xlabel('Importância')\n",
    "plt.tight_layout()\n",
    "plt.show()"
   ]
  },
  {
   "cell_type": "markdown",
   "id": "f3048b78-c80c-4354-949e-ff1e0f6633ca",
   "metadata": {},
   "source": [
    "### Desempenho e Aplicabilidade do Modelo Gradient Boosting na Predição de Saúde Mental\n",
    "\n",
    "Os resultados obtidos revelam que o Gradient Boosting é capaz de capturar relações complexas e não-lineares entre as variáveis preditoras e o target de saúde mental, com métricas de desempenho consistentes e superiores. As principais vantagens observadas incluíram: alta precisão preditiva; robustez a overfitting; captura de relações complexas, importância de features. Em comparação com KNN o Gradient Boosting apresentou melhor capacidade de generalização para novos dados e um processo de treinamento mais eficiente uma vez otimizado"
   ]
  },
  {
   "cell_type": "markdown",
   "id": "f128cafb-151c-4819-b70f-1106a1a4f743",
   "metadata": {},
   "source": [
    "### Conclusão\n",
    "\n",
    "A implementação do algoritmo Gradient Boosting demonstrou ser uma abordagem altamente eficaz para a predição de notas de saúde mental, superando significativamente o desempenho de outros modelos anteriormente testados como o Knn. Através do processo de otimização sistemática com Optuna, foi possível identificar uma configuração de hiperparâmetros que maximiza a capacidade preditiva enquanto mantém adequada regularização. Para aplicações práticas, o modelo Gradient Boosting desenvolvido oferece uma ferramenta robusta para identificação precoce de estudantes em risco baseado em seus padrões digitais e comportamentais. A maior precisão preditiva permite intervenções mais direcionadas e eficazes por parte de instituições educacionais e profissionais de saúde.\n",
    "\n",
    "Em perspectiva futura, a abordagem poderia ser enriquecida com técnicas de engenharia de features mais avançadas e incorporação de dados temporais sobre padrões de uso. A interpretabilidade do modelo através da análise de importância de features também abre oportunidades para pesquisas qualitativas complementares. Em síntese, este trabalho não apenas valida a superioridade do Gradient Boosting em problemas de regressão no domínio da saúde digital, mas também estabelece um benchmark de performance para futuras investigações sobre a relação entre tecnologia e bem-estar psicológico."
   ]
  },
  {
   "cell_type": "markdown",
   "id": "0e93d3cd-b0e1-4d0e-af1d-47cd3a3410a9",
   "metadata": {},
   "source": [
    "## Referências\n",
    "\n",
    "[1] OPTUNA. **Optuna: A hyperparameter optimization framework**. Disponível em: <https://optuna.org/>. \n",
    "\n",
    "[2] SCIKIT-LEARN. **sklearn.ensemble.GradientBoostingRegressor**. Disponível em: <https://scikit-learn.org/stable/modules/generated/sklearn.ensemble.GradientBoostingClassifier.html>. \n",
    "\n",
    "[3] SCIKIT-LEARN. **sklearn.model_selection.cross_val_score**. Disponível em: <https://scikit-learn.org/stable/modules/generated/sklearn.model_selection.cross_val_score.html>. \n",
    "\n",
    "[4] SEABORN. **seaborn: statistical data visualization**. Disponível em: <https://seaborn.pydata.org/>. Acesso em: 17 out. 2024.\n",
    "\n",
    "[5] SHAH, M. **Master Hyperparameter Optimization with Optuna:** A Complete Guide [Part 1]. Disponível em: <https://medium.com/@mdshah930/master-hyperparameter-optimization-with-optuna-a-complete-guide-89971b799b0a>."
   ]
  }
 ],
 "metadata": {
  "kernelspec": {
   "display_name": "ilumpy",
   "language": "python",
   "name": "ilumpy"
  },
  "language_info": {
   "codemirror_mode": {
    "name": "ipython",
    "version": 3
   },
   "file_extension": ".py",
   "mimetype": "text/x-python",
   "name": "python",
   "nbconvert_exporter": "python",
   "pygments_lexer": "ipython3",
   "version": "3.12.7"
  }
 },
 "nbformat": 4,
 "nbformat_minor": 5
}
