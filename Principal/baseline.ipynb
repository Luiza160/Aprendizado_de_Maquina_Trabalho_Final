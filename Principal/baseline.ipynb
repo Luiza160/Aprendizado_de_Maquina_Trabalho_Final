{
 "cells": [
  {
   "cell_type": "markdown",
   "id": "0303064f-744f-427d-8b39-ceafc35b8697",
   "metadata": {},
   "source": [
    "# <div class=\"alert alert-warning\" style=\"background-color: #f9d5f9; color: #89628a;\"> <center><font color=\"magenta\">**Modelo Baseline**</font></center>\n",
    "\n",
    "<center>Autoras: Luiza Davoli, Samarah L. M. Ramos e Sarah S. Silva</center>\n",
    "\n",
    "\n",
    "\n",
    "<center>˚ · • . ° .˚ · • . ° .˚ · • . ° .˚ · • . ° .˚ · • . ° .˚ · • . ° .˚ · • . ° .˚ · • . ° .˚ · • . ° .˚ · • . ° .˚ · • . ° .˚ · • . ° .˚ · • . ° .˚ · • . ° .˚ · • . ° .˚ · • . ° .˚ · • . ° .</center>"
   ]
  },
  {
   "cell_type": "markdown",
   "id": "7b0fdc63-1100-43b6-b574-b11b1218e81a",
   "metadata": {},
   "source": [
    "O baseline é um modelo simples e básico usado como ponto de referência para comparar o desempenho de modelos mais complexos.\n",
    "\n",
    "Ele serve para estabelecer um desempenho mínimo que modelos mais sofisticados devem superar, avaliar se esses modelos realmente valem a pena\n",
    "se seu modelo complexo não é muito melhor que o baseline, algo está errado\n",
    "\n",
    "Nesse notebook, seguiremos os seguintes passos:\n",
    "1. Criando o modelo\n",
    "2. Visualização gráfica\n",
    "3. Análise dos resultados"
   ]
  },
  {
   "cell_type": "markdown",
   "id": "6f199af4-43c5-485a-ac15-f6c0fe49f539",
   "metadata": {},
   "source": [
    "<center>˚ · • . ° .˚ · • . ° .˚ · • . ° .˚ · • . ° .˚ · • . ° .˚ · • . ° .˚ · • . ° .˚ · • . ° .˚ · • . ° .˚ · • . ° .˚ · • . ° .˚ · • . ° .˚ · • . ° .˚ · • . ° .˚ · • . ° .˚ · • . ° .˚ · • . ° .</center>"
   ]
  },
  {
   "cell_type": "markdown",
   "id": "1ca29e35-f4a5-4898-b595-49b03291aba9",
   "metadata": {},
   "source": [
    "## <font color=\"magenta\">**1. Criando o modelo**</font>"
   ]
  },
  {
   "cell_type": "markdown",
   "id": "7f45600e-0e90-4236-ac55-a8a11a9ae164",
   "metadata": {},
   "source": [
    "O primeiro passo para a criação de um modelo baseline é importar as bibliotecas e os módulos que serão utilizados em sua implantação. Nesse caso, temos as seguintes:\n",
    "\n",
    "- **Pandas**: O pandas fornece rapidamente estruturas de dados flexíveis e expressivas, projetadas para tornar o trabalho com dados mais fácil e intuitivo.\n",
    "\n",
    "- **Scikit learn**: O scikit-learn é uma biblioteca de aprendizado de máquina que possui tanto a opção de realizar aprendizado supervisionado, quanto não supervisionado. Ele também fornece ferramentas para diversas necessidades que podem surgir em projetos desse tipo, como ajuste de modelo, pré-processamento de dados, seleção de modelo, avaliação de modelo e muitos outros.\n",
    "\n",
    "- **NumPy**: O NumPy é um pacote fundamental para computação científica. Ele possui ferramentas para trabalhar com matrizes comuns, multidimensionais ou mascaradas, realizando operações rápidas incluindo matemática, lógica, manipulação de formas, classificação, seleção, transformadas discretas de Fourier, álgebra linear básica, operações estatísticas básicas, simulação aleatória e muito mais.\n",
    "\n",
    "- **Seaborn**: O Seaborn é uma biblioteca de visualização de dados Python baseada em matplotlib. Ele fornece uma interface de alto nível para desenho gráficos estatísticos atraentes e informativos.\n",
    "\n",
    "\n",
    "Depois disso, é necessário importar os dados que constrituirão o Data Frame utilizado. Para isso, podemos utilizar uma das funcionalidades da biblioteca Pandas, citada acima, a `read_csv`, já que os dados estão armazenados em um arquivo *.csv*."
   ]
  },
  {
   "cell_type": "code",
   "execution_count": 1,
   "id": "0f0d5f49-81c1-4941-a007-91e0f121bc0b",
   "metadata": {},
   "outputs": [],
   "source": [
    "# importando os módulos\n",
    "import pandas as pd\n",
    "from sklearn.preprocessing import OneHotEncoder\n",
    "from sklearn.linear_model import LinearRegression\n",
    "from sklearn.metrics import root_mean_squared_error\n",
    "import numpy as np\n",
    "import seaborn as sns\n",
    "\n",
    "# importando os dados\n",
    "df = pd.read_csv(\"dados_tratados.csv\")"
   ]
  },
  {
   "cell_type": "markdown",
   "id": "559e65f4-99c0-47ca-9f6c-eb03fa37add9",
   "metadata": {},
   "source": [
    "Agora, precisamos separar os tipos diferentes de dados. Isso porque as funções de regressão linear do SciKit não reconhecem dados categóricos, sendo necessário transformá-los em numéricos. \n",
    "\n",
    "Para isso, criamos diferentes variáveis que armazenem esses tipos de dados, até que haja a conversão (chamadas de `numericos` e `categoricos`).\n",
    "\n",
    "Depois da conversão, os dados já podem ser agrupados novamente (em uma variável que chamamos de `X`), a fim de realizarmos a previsão com o modelo."
   ]
  },
  {
   "cell_type": "code",
   "execution_count": 2,
   "id": "90194d79-ab93-4de4-86de-f2b63a1c8658",
   "metadata": {},
   "outputs": [],
   "source": [
    "# dados numéricos:\n",
    "numericos = df[[\"Age\", \n",
    "                \"Avg_Daily_Usage_Hours\", \n",
    "                \"Sleep_Hours_Per_Night\", \n",
    "                \"Conflicts_Over_Social_Media\", \n",
    "                \"Addicted_Score\"]].values\n",
    "# dados categóricos:\n",
    "categoricos = df[[\"Academic_Level\",\n",
    "                 \"Country\", \n",
    "                 \"Most_Used_Platform\",\n",
    "                 \"Affects_Academic_Performance\",\n",
    "                 \"Relationship_Status\"]].values\n",
    "\n",
    "\n",
    "# conversão OneHot para transformar os dados categóricos\n",
    "encoder = OneHotEncoder(sparse_output=False)\n",
    "categ_encoded = encoder.fit_transform(categoricos)\n",
    "\n",
    "\n",
    "# agrupando novamente os diferentes tipos de variáveis\n",
    "X = np.hstack([numericos, categ_encoded])\n",
    "# definindo qual será o nosso target\n",
    "y = df[\"Mental_Health_Score\"].values\n",
    "\n",
    "\n",
    "# realizando a previsão com o modelo de regressão linear\n",
    "modelo = LinearRegression()\n",
    "modelo.fit(X, y)\n",
    "y_previsto = modelo.predict(X)"
   ]
  },
  {
   "cell_type": "markdown",
   "id": "8002b3b4-26c5-49bc-a7f3-5f3751eeb796",
   "metadata": {},
   "source": [
    "<center>˚ · • . ° .˚ · • . ° .˚ · • . ° .˚ · • . ° .˚ · • . ° .˚ · • . ° .˚ · • . ° .˚ · • . ° .˚ · • . ° .˚ · • . ° .˚ · • . ° .˚ · • . ° .˚ · • . ° .˚ · • . ° .˚ · • . ° .˚ · • . ° .˚ · • . ° .</center>"
   ]
  },
  {
   "cell_type": "markdown",
   "id": "f47fef6c-8040-430e-8825-c19a99fad3d9",
   "metadata": {},
   "source": [
    "## <font color=\"magenta\">**2. Visualização Gráfica**</font>"
   ]
  },
  {
   "cell_type": "markdown",
   "id": "33925344-5095-4364-a6bb-145ed67f9b2e",
   "metadata": {},
   "source": [
    "Uma das principais formas de visualizar os resultados da previsão é plotando um gráfico que compara os valores reais do target e os valores obtidos com o modelo, chamados de *y verdadeiro* e *y previsto*, respectivamente.\n",
    "\n",
    "Nesse gráfico, cada valor de *y verdadeiro* (localizado no eixo x) é comparado ao seu respectivo valor de *y previsto* (localizado no eixo y). A reta chamada *identidade* representa os dados previstos que são exatamente iguais aos dados verdadeiros. Quanto mais próximos os pontos se localizarem dessa reta, melhor é o modelo de previsão utiizado."
   ]
  },
  {
   "cell_type": "code",
   "execution_count": 3,
   "id": "92e55df3-5dfb-43bc-be51-14e9073289b4",
   "metadata": {},
   "outputs": [
    {
     "data": {
      "image/png": "[encoded data removed]",
      "text/plain": [
       "<Figure size 640x480 with 1 Axes>"
      ]
     },
     "metadata": {},
     "output_type": "display_data"
    }
   ],
   "source": [
    "# definindo os valores máximos e mínimos dos eixos do gráfico\n",
    "min_val = min(y.min(), y_previsto.min())\n",
    "max_val = max(y.max(), y_previsto.max())\n",
    "intervalo = [min_val * 0.95, max_val * 1.05]\n",
    "\n",
    "# plotando o gráfico\n",
    "eixo = sns.scatterplot(x=y, y=y_previsto, label=\"Dados\", color=\"pink\")\n",
    "eixo.plot(intervalo, intervalo, \"--\", label=\"Identidade\", color=\"brown\")\n",
    "eixo.set(\n",
    "    xlabel=\"$y$ verdadeiro\",\n",
    "    ylabel=\"$y$ previsto\",\n",
    "    xlim=intervalo,\n",
    "    ylim=intervalo,\n",
    "    aspect=\"equal\",\n",
    ")\n",
    "eixo.legend();"
   ]
  },
  {
   "cell_type": "markdown",
   "id": "787de2ef-905a-4b47-95eb-b3ddd186dabb",
   "metadata": {},
   "source": [
    "Nesse caso, como os pontos se localizam ao redor da reta, é possível perceber que o modelo é coerente aos dados reais. Apesar disso, esses dados estão relativamente espalhados com relação ao eixo y, o que significa que a variação dos valores previstos será um pouco alta."
   ]
  },
  {
   "cell_type": "markdown",
   "id": "9d005d4e-583d-4f61-aa63-a587939b2b92",
   "metadata": {},
   "source": [
    "<center>˚ · • . ° .˚ · • . ° .˚ · • . ° .˚ · • . ° .˚ · • . ° .˚ · • . ° .˚ · • . ° .˚ · • . ° .˚ · • . ° .˚ · • . ° .˚ · • . ° .˚ · • . ° .˚ · • . ° .˚ · • . ° .˚ · • . ° .˚ · • . ° .˚ · • . ° .</center>"
   ]
  },
  {
   "cell_type": "markdown",
   "id": "43839786-7edc-4686-834b-50aee6420c1b",
   "metadata": {},
   "source": [
    "## <font color=\"magenta\">**3. Análise dos Resultados**</font>"
   ]
  },
  {
   "cell_type": "markdown",
   "id": "4aabf5e6-6d3e-4f75-bdf9-f41c6e42fdbc",
   "metadata": {},
   "source": [
    "RMSE (Root Mean Squared Error ou Raiz Quadrada da Média das Diferenças Quadráticas) é uma métrica amplamente usada que indica o grau de erro das previsões, em média. \n",
    "\n",
    "Um RMSE menor indica que os erros de previsão são menores, ou seja, as previsões são mais precisas. Não há um valor absoluto que indica se o valor do RMSE será bom ou não. Essa conclusão deve ser tirada a partir de comparações entre diferentes modelos usados para previsões com os mesmos dados."
   ]
  },
  {
   "cell_type": "code",
   "execution_count": 4,
   "id": "df7015c7-96e2-4f5e-bbfd-17e2b18cc496",
   "metadata": {},
   "outputs": [
    {
     "name": "stdout",
     "output_type": "stream",
     "text": [
      "O RMSE do modelo foi de 0.2238059619453738 unidades.\n"
     ]
    }
   ],
   "source": [
    "RMSE = root_mean_squared_error(y, y_previsto)\n",
    "\n",
    "print(f\"O RMSE do modelo foi de {RMSE} unidades.\")"
   ]
  },
  {
   "cell_type": "markdown",
   "id": "9f296b79-a361-4f5f-a7c5-af27ef843b93",
   "metadata": {},
   "source": [
    "<center>˚ · • . ° .˚ · • . ° .˚ · • . ° .˚ · • . ° .˚ · • . ° .˚ · • . ° .˚ · • . ° .˚ · • . ° .˚ · • . ° .˚ · • . ° .˚ · • . ° .˚ · • . ° .˚ · • . ° .˚ · • . ° .˚ · • . ° .˚ · • . ° .˚ · • . ° .</center>"
   ]
  },
  {
   "cell_type": "markdown",
   "id": "16263366-0b67-4517-bd9f-2042fe0c139a",
   "metadata": {},
   "source": [
    "## <font color=\"magenta\">**Referências**</font>"
   ]
  },
  {
   "cell_type": "markdown",
   "id": "cbfac6d5-481a-4fc9-979d-4bc8128fc618",
   "metadata": {},
   "source": [
    "NUMPY. **Overview — NumPy v1.19 Manual**. Disponível em: <https://numpy.org/doc/stable/>.\n",
    "\n",
    "SCIKIT-LEARN. **User guide: contents — scikit-learn 0.22.1 documentation.** Disponível em: <https://scikit-learn.org/stable/user_guide.html>.\n",
    "\n",
    "THE PANDAS DEVELOPMENT TEAM. **Package overview — pandas 1.1.5 documentation.** Disponível em: <https://pandas.pydata.org/docs/getting_started/overview.html>.\n",
    "\n",
    "‌SEABORN. **seaborn: statistical data visualization — seaborn 0.9.0 documentation.** Disponível em: <https://seaborn.pydata.org/>.‌"
   ]
  },
  {
   "cell_type": "markdown",
   "id": "a28078a3-3068-4234-a226-5f3f7c35985f",
   "metadata": {},
   "source": [
    "<center>˚ · • . ° .˚ · • . ° .˚ · • . ° .˚ · • . ° .˚ · • . ° .˚ · • . ° .˚ · • . ° .˚ · • . ° .˚ · • . ° .˚ · • . ° .˚ · • . ° .˚ · • . ° .˚ · • . ° .˚ · • . ° .˚ · • . ° .˚ · • . ° .˚ · • . ° .</center>"
   ]
  }
 ],
 "metadata": {
  "kernelspec": {
   "display_name": "ilumpy",
   "language": "python",
   "name": "ilumpy"
  },
  "language_info": {
   "codemirror_mode": {
    "name": "ipython",
    "version": 3
   },
   "file_extension": ".py",
   "mimetype": "text/x-python",
   "name": "python",
   "nbconvert_exporter": "python",
   "pygments_lexer": "ipython3",
   "version": "3.12.7"
  }
 },
 "nbformat": 4,
 "nbformat_minor": 5
}
