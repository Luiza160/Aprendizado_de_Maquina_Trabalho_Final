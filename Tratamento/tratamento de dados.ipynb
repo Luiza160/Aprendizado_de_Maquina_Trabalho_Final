{
 "cells": [
  {
   "cell_type": "markdown",
   "id": "93b56943-c919-4e01-8a45-19319fc28169",
   "metadata": {},
   "source": [
    "# <center><font color=\"magenta\">**Tratamento dos Dados**</font></center>"
   ]
  },
  {
   "cell_type": "markdown",
   "id": "dc21651c-bcee-471d-bd9a-1e1dc2c68661",
   "metadata": {},
   "source": [
    "O primeiro passo para realizar o tratamento dos dados que serão utilizados é importar as bilbiotecas que serão utilizadas. Nesse caso, a biblioteca será a Pandas, ideal para trabalhar com conjuntos de dados.\n",
    "\n",
    "Em seguida, é necessário carregar o arquivo que contém os dados. "
   ]
  },
  {
   "cell_type": "code",
   "execution_count": 8,
   "id": "e55597a9-bd95-48e7-a41b-46101701af53",
   "metadata": {},
   "outputs": [],
   "source": [
    "import pandas as pd\n",
    "\n",
    "df = pd.read_csv(\"Students Social Media Addiction.csv\")"
   ]
  },
  {
   "cell_type": "markdown",
   "id": "32fa504e-7263-4d39-a30f-7c532c8227c1",
   "metadata": {},
   "source": [
    "Para realizar o tratamento dos dados, é importante criar uma cópia do Data Frame, para que os dados originais não sofram nenhuma alteração e possam ser recuperados caso necessário."
   ]
  },
  {
   "cell_type": "code",
   "execution_count": 13,
   "id": "3eb42dbf-3312-49e9-a529-7a35ec7d2567",
   "metadata": {},
   "outputs": [],
   "source": [
    "df_copia = df   # criando a cópia do df\n",
    "\n",
    "df_sem_dados_faltantes = df_copia.dropna(axis=0)   # excluindo dados faltantes\n",
    "df_copia = df_sem_dados_faltantes   # atualizando o df\n",
    "\n",
    "df_sem_dados_duplicados = df_copia.drop_duplicates()   # excluindo dados duplicados\n",
    "df_copia = df_sem_dados_duplicados   # atualizando o df\n",
    "\n",
    "df_dados_convertidos = df_copia.convert_dtypes()   #convertendo os tipos dos dados\n",
    "df_copia = df_dados_convertidos   # atualizando o df"
   ]
  },
  {
   "cell_type": "markdown",
   "id": "132b9a8d-f053-467f-b2f0-dd522397773d",
   "metadata": {},
   "source": [
    "Depois de tratar os dados, deve-se salvar as alterações em um novo arquivo, para que possa ser usado novamente em outros códigos."
   ]
  },
  {
   "cell_type": "code",
   "execution_count": null,
   "id": "c35b8adb-45db-4708-93e7-6289b959622e",
   "metadata": {},
   "outputs": [],
   "source": [
    "df_copia.to_csv('dados_tratados.csv', index=False)"
   ]
  }
 ],
 "metadata": {
  "kernelspec": {
   "display_name": "ilumpy",
   "language": "python",
   "name": "ilumpy"
  },
  "language_info": {
   "codemirror_mode": {
    "name": "ipython",
    "version": 3
   },
   "file_extension": ".py",
   "mimetype": "text/x-python",
   "name": "python",
   "nbconvert_exporter": "python",
   "pygments_lexer": "ipython3",
   "version": "3.12.7"
  }
 },
 "nbformat": 4,
 "nbformat_minor": 5
}
